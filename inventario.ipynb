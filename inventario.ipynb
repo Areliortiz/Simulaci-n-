{
  "nbformat": 4,
  "nbformat_minor": 0,
  "metadata": {
    "colab": {
      "provenance": [],
      "authorship_tag": "ABX9TyOTnVAPH1YcWtkVkOA/e2W4",
      "include_colab_link": true
    },
    "kernelspec": {
      "name": "python3",
      "display_name": "Python 3"
    },
    "language_info": {
      "name": "python"
    }
  },
  "cells": [
    {
      "cell_type": "markdown",
      "metadata": {
        "id": "view-in-github",
        "colab_type": "text"
      },
      "source": [
        "<a href=\"https://colab.research.google.com/github/Areliortiz/Simulaci-n-/blob/main/inventario.ipynb\" target=\"_parent\"><img src=\"https://colab.research.google.com/assets/colab-badge.svg\" alt=\"Open In Colab\"/></a>"
      ]
    },
    {
      "cell_type": "code",
      "source": [
        "import random as rnd\n",
        "from tabulate import tabulate\n",
        "import matplotlib.pyplot as plt\n",
        "import numpy as np"
      ],
      "metadata": {
        "id": "YjNIy3U4P91l"
      },
      "execution_count": 111,
      "outputs": []
    },
    {
      "cell_type": "code",
      "execution_count": 112,
      "metadata": {
        "id": "YSUm3E4o5Wqy"
      },
      "outputs": [],
      "source": [
        "# Función para obtener el factor estacional dado un mes\n",
        "def factor_estacional(mes):\n",
        "    factores_estacionales = {\n",
        "    1: 1.20,\n",
        "    2: 1.00,\n",
        "    3: 0.90,\n",
        "    4: 0.80,\n",
        "    5: 0.80,\n",
        "    6: 0.70,\n",
        "    7: 0.80,\n",
        "    8: 0.90,\n",
        "    9: 1.00,\n",
        "    10: 1.20,\n",
        "    11: 1.30,\n",
        "    12: 1.40}\n",
        "\n",
        "    return factores_estacionales.get(mes)  # devuelve factor estacional de cada mes\n"
      ]
    },
    {
      "cell_type": "code",
      "source": [
        "# Generamos un valor aleatorio para R\n",
        "#R = random.uniform(0, 1)\n",
        "def demanda(R):\n",
        "  # Definimos el valor de x en función del rango de R\n",
        "  if 0.000 <= R < 0.010:\n",
        "      x = 35\n",
        "  elif 0.010 <= R < 0.025:\n",
        "      x = 36\n",
        "  elif 0.025 <= R < 0.045:\n",
        "      x = 37\n",
        "  elif 0.045 <= R < 0.065:\n",
        "      x = 38\n",
        "  elif 0.065 <= R < 0.087:\n",
        "      x = 39\n",
        "  elif 0.087 <= R < 0.110:\n",
        "      x = 40\n",
        "  elif 0.110 <= R < 0.135:\n",
        "      x = 41\n",
        "  elif 0.135 <= R < 0.162:\n",
        "      x = 42\n",
        "  elif 0.162 <= R < 0.190:\n",
        "      x = 43\n",
        "  elif 0.190 <= R < 0.219:\n",
        "      x = 44\n",
        "  elif 0.219 <= R < 0.254:\n",
        "      x = 45\n",
        "  elif 0.254 <= R < 0.299:\n",
        "      x = 46\n",
        "  elif 0.299 <= R < 0.359:\n",
        "      x = 47\n",
        "  elif 0.359 <= R < 0.424:\n",
        "      x = 48\n",
        "  elif 0.424 <= R < 0.494:\n",
        "      x = 49\n",
        "  elif 0.494 <= R < 0.574:\n",
        "      x = 50\n",
        "  elif 0.574 <= R < 0.649:\n",
        "      x = 51\n",
        "  elif 0.649 <= R < 0.719:\n",
        "      x = 52\n",
        "  elif 0.719 <= R < 0.784:\n",
        "      x = 53\n",
        "  elif 0.784 <= R < 0.844:\n",
        "      x = 54\n",
        "  elif 0.844 <= R < 0.894:\n",
        "      x = 55\n",
        "  elif 0.894 <= R < 0.934:\n",
        "      x = 56\n",
        "  elif 0.934 <= R < 0.964:\n",
        "      x = 57\n",
        "  elif 0.964 <= R < 0.980:\n",
        "      x = 58\n",
        "  elif 0.980 <= R < 0.995:\n",
        "      x = 59\n",
        "  elif 0.995 <= R <= 1.000:\n",
        "      x = 60\n",
        "  else:\n",
        "      x = None  # Por si acaso R no cae en ningún rango esperado\n",
        "\n",
        "  return x #regrasa valor de x"
      ],
      "metadata": {
        "id": "bfDbOX1M7iP9"
      },
      "execution_count": 113,
      "outputs": []
    },
    {
      "cell_type": "code",
      "source": [
        "# Generamos un valor aleatorio para R\n",
        "R = random.uniform(0, 1)\n",
        "def entregas(R):\n",
        "  # Definimos el valor de x en función del rango de R usando if\n",
        "  if 0.00 <= R < 0.30:\n",
        "      return 1\n",
        "  elif 0.30 <= R < 0.70:\n",
        "      return 2\n",
        "  elif 0.70 <= R <= 1.00:\n",
        "      return 3\n",
        "      #regresamos los meses de espera(x)\n",
        "\n"
      ],
      "metadata": {
        "id": "56RnRDSA9fMm"
      },
      "execution_count": 114,
      "outputs": []
    },
    {
      "cell_type": "code",
      "source": [
        "# Inicialización de variables\n",
        "lista_inv=[]\n",
        "inicial_inventario = 150\n",
        "OP=0\n",
        "total=0\n",
        "fal_tol=0\n",
        "R = 100 #nivel de reorden\n",
        "q = 200 #cantidad a ordenar\n",
        "orden=0\n",
        "espera = 0\n",
        "#listas para guardar los datos para la tabla\n",
        "lista_principal = []\n",
        "orden_f=[]\n",
        "\n",
        "for i_mes in range(1,13): #se repite en los 12 meses\n",
        "    u1 = rnd.random() #genera un número aleatorio entre 0 y 1\n",
        "    num = demanda(u1) #valor de demanda, llama a la funcion demanda\n",
        "#DEMANDA AJUSTADA:\n",
        "    ajustada=round(num*factor_estacional(i_mes)) #redondea al numero mas cercano\n",
        "\n",
        "#INVENTARIO FINAL:\n",
        "    resta= inicial_inventario-ajustada\n",
        "#INVENTARIO INICIAL\n",
        "    OP=inicial_inventario\n",
        "    lista_inv.append(inicial_inventario) # crea lista del inventario inicial\n",
        "\n",
        "    if resta < R and espera==0:  # Revisar si el inventario final es menor que R y comprueba que no hay pedidos en espera\n",
        "       #mandamos a llamar a la funcion entregas\n",
        "        u2 = rnd.random()\n",
        "        X = entregas(u2)\n",
        "        orden += 1 #se hizo una orden\n",
        "#NUMEOR DE ORDE\n",
        "        orden_f.append(orden) #agrga en una lista la contidad de pedidos\n",
        "        if X>1: #orden en espera\n",
        "          inicial_inventario=resta\n",
        "          espera= 1\n",
        "        else:  #entrega de orden\n",
        "          inicial_inventario=resta+q\n",
        "\n",
        "    elif resta<100 and espera==1: # Revisar si el inventario final es menor que R y comprueba que hay pedidos en espera\n",
        "        X-=1\n",
        "        orden_f.append(\"\")\n",
        "        if X>1: #hay orden en espera\n",
        "          inicial_inventario=resta\n",
        "        else:#entrega de orden\n",
        "          inicial_inventario=resta+q\n",
        "          espera=0\n",
        "    elif resta>100: #el inventario final tiene mas de 100, no es necesario hacer pedido\n",
        "        inicial_inventario=resta\n",
        "        orden_f.append(\"\")\n",
        "#CANTIDAD DE PRODUCTOS FALTANTES\n",
        "    if resta <= 0:\n",
        "        fal=abs(resta) #inventario en 0, Faltante es demanda insatisfecha\n",
        "        fal_tol=fal_tol+fal\n",
        "        resta=0\n",
        "    else:\n",
        "        fal=0 #inventario positivo\n",
        "#PROMEDIO\n",
        "    if resta==0:\n",
        "        prom=(OP/2)+(OP/ajustada)\n",
        "    else:\n",
        "        prom=(OP+resta)/2\n",
        "\n",
        "    total=total+resta\n",
        "    lista_principal.append([i_mes, OP, u1, ajustada, resta,fal,orden_f[-1],prom]) #crea una lista con todos los datos\n",
        "\n",
        "#Muestra la tabla\n",
        "headers = [\"mes\", \"inventario inicial\", \"num_aleatorio\", \"ajustada\",\"final\",\"faltante\",\"orden\",\"promedio\"]\n",
        "print(tabulate(lista_principal, headers=headers, tablefmt=\"grid\"));\n",
        "\n"
      ],
      "metadata": {
        "colab": {
          "base_uri": "https://localhost:8080/"
        },
        "id": "cf4JwInPNMTu",
        "outputId": "c81af51c-a8e8-4e3f-cbb0-e5e58a79ac80"
      },
      "execution_count": 122,
      "outputs": [
        {
          "output_type": "stream",
          "name": "stdout",
          "text": [
            "+-------+----------------------+-----------------+------------+---------+------------+---------+------------+\n",
            "|   mes |   inventario inicial |   num_aleatorio |   ajustada |   final |   faltante | orden   |   promedio |\n",
            "+=======+======================+=================+============+=========+============+=========+============+\n",
            "|     1 |                  150 |        0.748729 |         64 |      86 |          0 | 1       |  118       |\n",
            "+-------+----------------------+-----------------+------------+---------+------------+---------+------------+\n",
            "|     2 |                  286 |        0.246706 |         45 |     241 |          0 |         |  263.5     |\n",
            "+-------+----------------------+-----------------+------------+---------+------------+---------+------------+\n",
            "|     3 |                  241 |        0.822741 |         49 |     192 |          0 |         |  216.5     |\n",
            "+-------+----------------------+-----------------+------------+---------+------------+---------+------------+\n",
            "|     4 |                  192 |        0.879106 |         44 |     148 |          0 |         |  170       |\n",
            "+-------+----------------------+-----------------+------------+---------+------------+---------+------------+\n",
            "|     5 |                  148 |        0.805546 |         43 |     105 |          0 |         |  126.5     |\n",
            "+-------+----------------------+-----------------+------------+---------+------------+---------+------------+\n",
            "|     6 |                  105 |        0.521115 |         35 |      70 |          0 | 2       |   87.5     |\n",
            "+-------+----------------------+-----------------+------------+---------+------------+---------+------------+\n",
            "|     7 |                   70 |        0.869983 |         44 |      26 |          0 |         |   48       |\n",
            "+-------+----------------------+-----------------+------------+---------+------------+---------+------------+\n",
            "|     8 |                  226 |        0.701627 |         47 |     179 |          0 |         |  202.5     |\n",
            "+-------+----------------------+-----------------+------------+---------+------------+---------+------------+\n",
            "|     9 |                  179 |        0.781984 |         53 |     126 |          0 |         |  152.5     |\n",
            "+-------+----------------------+-----------------+------------+---------+------------+---------+------------+\n",
            "|    10 |                  126 |        0.9266   |         67 |      59 |          0 | 3       |   92.5     |\n",
            "+-------+----------------------+-----------------+------------+---------+------------+---------+------------+\n",
            "|    11 |                   59 |        0.605103 |         66 |       0 |          7 |         |   30.3939  |\n",
            "+-------+----------------------+-----------------+------------+---------+------------+---------+------------+\n",
            "|    12 |                   -7 |        0.871165 |         77 |       0 |         84 |         |   -3.59091 |\n",
            "+-------+----------------------+-----------------+------------+---------+------------+---------+------------+\n"
          ]
        }
      ]
    },
    {
      "cell_type": "code",
      "source": [
        "#SIMULACION DE UN AÑO\n",
        "x=np.linspace(0,12,12)\n",
        "plt.step(x,lista_inv ) #Distribución del inventario durante 1 año\n",
        "plt.axhline(100, color='r', label=\"optimo de reorden\")\n",
        "plt.xlabel('meses')\n",
        "plt.ylabel('inventario_promedio')\n",
        "plt.legend()\n",
        "plt.show()"
      ],
      "metadata": {
        "colab": {
          "base_uri": "https://localhost:8080/",
          "height": 454
        },
        "id": "uWNoyzoG5iTV",
        "outputId": "1037624b-485c-4361-cb20-66e2c36368d9"
      },
      "execution_count": 143,
      "outputs": [
        {
          "output_type": "display_data",
          "data": {
            "text/plain": [
              "<Figure size 640x480 with 1 Axes>"
            ],
            "image/png": "[encoded data removed]"
          },
          "metadata": {}
        }
      ]
    },
    {
      "cell_type": "code",
      "source": [
        "#costos\n",
        "\n",
        "lista_costo=[]\n",
        "CO=orden*100 #Costo de ordenar * número de ordenes que se hicieron\n",
        "CI=total*20 #Costo de llevar inventario * suma de inventario final\n",
        "CF=fal_tol*50 #penalización por demanda insatisfecha\n",
        "CT=CO+CI+CF #total\n",
        "lista_costo.append([CO,CI,CF,CT]) #crea una lista con todos los datos\n",
        "\n",
        "#Muestra la tabla\n",
        "headers = [\"costo x ordenar\", \"costo de inventario\", \"costo faltante\", \"total\"]\n",
        "print(tabulate(lista_costo, headers=headers, tablefmt=\"grid\"));"
      ],
      "metadata": {
        "id": "zk888ZBb0NYH",
        "outputId": "2089f929-e301-4f82-c757-0a0f3cabb549",
        "colab": {
          "base_uri": "https://localhost:8080/"
        }
      },
      "execution_count": 130,
      "outputs": [
        {
          "output_type": "stream",
          "name": "stdout",
          "text": [
            "+-------------------+-----------------------+------------------+---------+\n",
            "|   costo x ordenar |   costo de inventario |   costo faltante |   total |\n",
            "+===================+=======================+==================+=========+\n",
            "|               300 |                 24640 |             4550 |   29490 |\n",
            "+-------------------+-----------------------+------------------+---------+\n"
          ]
        }
      ]
    }
  ]
}