{
  "nbformat": 4,
  "nbformat_minor": 0,
  "metadata": {
    "colab": {
      "provenance": [],
      "authorship_tag": "ABX9TyMRh5bEezMe28Q8AGN3GoWD",
      "include_colab_link": true
    },
    "kernelspec": {
      "name": "python3",
      "display_name": "Python 3"
    },
    "language_info": {
      "name": "python"
    }
  },
  "cells": [
    {
      "cell_type": "markdown",
      "metadata": {
        "id": "view-in-github",
        "colab_type": "text"
      },
      "source": [
        "<a href=\"https://colab.research.google.com/github/Areliortiz/Simulaci-n-/blob/main/inventario.ipynb\" target=\"_parent\"><img src=\"https://colab.research.google.com/assets/colab-badge.svg\" alt=\"Open In Colab\"/></a>"
      ]
    },
    {
      "cell_type": "code",
      "source": [
        "import random as rnd\n",
        "from tabulate import tabulate"
      ],
      "metadata": {
        "id": "YjNIy3U4P91l"
      },
      "execution_count": 2,
      "outputs": []
    },
    {
      "cell_type": "code",
      "execution_count": 3,
      "metadata": {
        "id": "YSUm3E4o5Wqy"
      },
      "outputs": [],
      "source": [
        "# Función para obtener el factor estacional dado un mes\n",
        "def factor_estacional(mes):\n",
        "    factores_estacionales = {\n",
        "    1: 1.20,\n",
        "    2: 1.00,\n",
        "    3: 0.90,\n",
        "    4: 0.80,\n",
        "    5: 0.80,\n",
        "    6: 0.70,\n",
        "    7: 0.80,\n",
        "    8: 0.90,\n",
        "    9: 1.00,\n",
        "    10: 1.20,\n",
        "    11: 1.30,\n",
        "    12: 1.40}\n",
        "\n",
        "    return factores_estacionales.get(mes)  # .get() devuelve None si el mes no está en el diccionario\n",
        "\n",
        "factor = factor_estacional(6)\n"
      ]
    },
    {
      "cell_type": "code",
      "source": [
        "# Generamos un valor aleatorio para R\n",
        "#R = random.uniform(0, 1)\n",
        "def demanda(R):\n",
        "  # Definimos el valor de x en función del rango de R\n",
        "  if 0.000 <= R < 0.010:\n",
        "      x = 35\n",
        "  elif 0.010 <= R < 0.025:\n",
        "      x = 36\n",
        "  elif 0.025 <= R < 0.045:\n",
        "      x = 37\n",
        "  elif 0.045 <= R < 0.065:\n",
        "      x = 38\n",
        "  elif 0.065 <= R < 0.087:\n",
        "      x = 39\n",
        "  elif 0.087 <= R < 0.110:\n",
        "      x = 40\n",
        "  elif 0.110 <= R < 0.135:\n",
        "      x = 41\n",
        "  elif 0.135 <= R < 0.162:\n",
        "      x = 42\n",
        "  elif 0.162 <= R < 0.190:\n",
        "      x = 43\n",
        "  elif 0.190 <= R < 0.219:\n",
        "      x = 44\n",
        "  elif 0.219 <= R < 0.254:\n",
        "      x = 45\n",
        "  elif 0.254 <= R < 0.299:\n",
        "      x = 46\n",
        "  elif 0.299 <= R < 0.359:\n",
        "      x = 47\n",
        "  elif 0.359 <= R < 0.424:\n",
        "      x = 48\n",
        "  elif 0.424 <= R < 0.494:\n",
        "      x = 49\n",
        "  elif 0.494 <= R < 0.574:\n",
        "      x = 50\n",
        "  elif 0.574 <= R < 0.649:\n",
        "      x = 51\n",
        "  elif 0.649 <= R < 0.719:\n",
        "      x = 52\n",
        "  elif 0.719 <= R < 0.784:\n",
        "      x = 53\n",
        "  elif 0.784 <= R < 0.844:\n",
        "      x = 54\n",
        "  elif 0.844 <= R < 0.894:\n",
        "      x = 55\n",
        "  elif 0.894 <= R < 0.934:\n",
        "      x = 56\n",
        "  elif 0.934 <= R < 0.964:\n",
        "      x = 57\n",
        "  elif 0.964 <= R < 0.980:\n",
        "      x = 58\n",
        "  elif 0.980 <= R < 0.995:\n",
        "      x = 59\n",
        "  elif 0.995 <= R <= 1.000:\n",
        "      x = 60\n",
        "  else:\n",
        "      x = None  # Por si acaso R no cae en ningún rango esperado\n",
        "\n",
        "  return x"
      ],
      "metadata": {
        "id": "bfDbOX1M7iP9"
      },
      "execution_count": 4,
      "outputs": []
    },
    {
      "cell_type": "code",
      "source": [
        "import random\n",
        "\n",
        "# Generamos un valor aleatorio para R\n",
        "R = random.uniform(0, 1)\n",
        "def entregas(R):\n",
        "  # Definimos el valor de x en función del rango de R usando if\n",
        "  if 0.00 <= R < 0.30:\n",
        "      return 1\n",
        "  elif 0.30 <= R < 0.70:\n",
        "      return 2\n",
        "  elif 0.70 <= R <= 1.00:\n",
        "      return 3\n",
        "\n"
      ],
      "metadata": {
        "id": "56RnRDSA9fMm"
      },
      "execution_count": 5,
      "outputs": []
    },
    {
      "cell_type": "code",
      "source": [
        "# Inicialización de variables\n",
        "inicial_inventario = 150\n",
        "R = 100 #nivel de reorden\n",
        "q = 200 #cantidad a ordenar\n",
        "orden=0\n",
        "espera = 0\n",
        "#listas para guardar los datos para la tabla\n",
        "lista_principal = [] #empieza con un inventario de 150\n",
        "orden_f=[]\n",
        "for i_mes in range(1,13):\n",
        "    u1 = rnd.random() # Call the random function to generate a number\n",
        "    num = demanda(u1)\n",
        "    ajustada=round(num*factor_estacional(i_mes)) #redondea al numero mas cercano\n",
        "    resta= inicial_inventario-ajustada\n",
        "\n",
        "        # Revisar si el inventario final es menor que R\n",
        "    if resta < R and espera==0: #cuando es menor que R se hace una orden\n",
        "        u2 = rnd.random()\n",
        "        X = entregas(u2)\n",
        "        print(X)\n",
        "        orden += 1 #se hizo una orden\n",
        "        orden_f.append(orden)\n",
        "        espera= 1\n",
        "    else:\n",
        "        orden_f.append(\"\")\n",
        "        if espera ==X:\n",
        "          x=0\n",
        "        else:\n",
        "          espera +=1\n",
        "\n",
        "    if resta >= R:\n",
        "        espera= 0\n",
        "\n",
        "    lista_principal.append([i_mes, inicial_inventario, u1, ajustada, resta,orden_f[-1]])\n",
        "    if resta < R: #cuando es menor que R se hace una orden\n",
        "        resta=resta+q #agrega la orden a la lista de agregaciones\n",
        "\n",
        "    inicial_inventario=resta\n",
        "\n",
        "    #print(inicial_inventario)\n",
        "\n",
        "\n",
        "    #no se registra nada si no hubo orden y/o en espera de la orden\n",
        "headers = [\"mes\", \"inventario inicial\", \"num_aleatorio\", \"ajustada\",\"final\",\"orden\"]\n",
        "print(tabulate(lista_principal, headers=headers, tablefmt=\"grid\"))\n",
        "\n",
        "\n"
      ],
      "metadata": {
        "colab": {
          "base_uri": "https://localhost:8080/"
        },
        "id": "cf4JwInPNMTu",
        "outputId": "bb70d0b0-f87b-4af7-dc8b-236e4bd20094"
      },
      "execution_count": 45,
      "outputs": [
        {
          "output_type": "stream",
          "name": "stdout",
          "text": [
            "1\n",
            "2\n",
            "2\n",
            "+-------+----------------------+-----------------+------------+---------+---------+\n",
            "|   mes |   inventario inicial |   num_aleatorio |   ajustada |   final | orden   |\n",
            "+=======+======================+=================+============+=========+=========+\n",
            "|     1 |                  150 |      0.275175   |         55 |      95 | 1       |\n",
            "+-------+----------------------+-----------------+------------+---------+---------+\n",
            "|     2 |                  295 |      0.717595   |         52 |     243 |         |\n",
            "+-------+----------------------+-----------------+------------+---------+---------+\n",
            "|     3 |                  243 |      0.348395   |         42 |     201 |         |\n",
            "+-------+----------------------+-----------------+------------+---------+---------+\n",
            "|     4 |                  201 |      0.174654   |         34 |     167 |         |\n",
            "+-------+----------------------+-----------------+------------+---------+---------+\n",
            "|     5 |                  167 |      0.378149   |         38 |     129 |         |\n",
            "+-------+----------------------+-----------------+------------+---------+---------+\n",
            "|     6 |                  129 |      0.689894   |         36 |      93 | 2       |\n",
            "+-------+----------------------+-----------------+------------+---------+---------+\n",
            "|     7 |                  293 |      0.209703   |         35 |     258 |         |\n",
            "+-------+----------------------+-----------------+------------+---------+---------+\n",
            "|     8 |                  258 |      0.00683654 |         32 |     226 |         |\n",
            "+-------+----------------------+-----------------+------------+---------+---------+\n",
            "|     9 |                  226 |      0.0974859  |         40 |     186 |         |\n",
            "+-------+----------------------+-----------------+------------+---------+---------+\n",
            "|    10 |                  186 |      0.0949328  |         48 |     138 |         |\n",
            "+-------+----------------------+-----------------+------------+---------+---------+\n",
            "|    11 |                  138 |      0.680399   |         68 |      70 | 3       |\n",
            "+-------+----------------------+-----------------+------------+---------+---------+\n",
            "|    12 |                  270 |      0.206318   |         62 |     208 |         |\n",
            "+-------+----------------------+-----------------+------------+---------+---------+\n"
          ]
        }
      ]
    },
    {
      "cell_type": "code",
      "source": [],
      "metadata": {
        "id": "uWNoyzoG5iTV"
      },
      "execution_count": null,
      "outputs": []
    },
    {
      "cell_type": "code",
      "source": [
        "# Inicialización de variables\n",
        "inicial_inventario = 150\n",
        "R = 100 #nivel de reorden\n",
        "q = 200 #cantidad a ordenar\n",
        "#listas para guardar los datos para la tabla\n",
        "Inicial = [] #empieza con un inventario de 150\n",
        "NumAleatorio = [] #el que se manda a la función demanda(u)\n",
        "DemandaAjustada = [] #factor estacional * demanda\n",
        "Final = [] #inventario final\n",
        "\n",
        "\n",
        "\n",
        "Faltante = [] #inventario queda negativo, faltante=abs(final)\n",
        "Orden = [] #almacena las ordenes que se hicieron y las que no, no pone nada\n",
        "Promedio = [] #Inventario mensual promedio\n",
        "agregaciones_futuras = []\n",
        "suma_programada = False #indica si se hizo una orden False=No, True=sí\n",
        "Ordn=0 #conteo de ordenes inicializada en 0\n",
        "#\n",
        "# Simulación\n",
        "\n",
        "for i in range(1, 13):\n",
        "    # Sumar al inventario las agregaciones programadas para esta iteración\n",
        "    for j in range(len(agregaciones_futuras)):\n",
        "        if agregaciones_futuras[j][0] == i:\n",
        "            inicial_inventario += agregaciones_futuras[j][1]\n",
        "            print(f\"En la iteración {i}, se suma {agregaciones_futuras[j][1]} al inventario.\")\n",
        "            #mensaje que indica en qué iteración (mes) llega la orden\n",
        "    # Eliminar las agregaciones que ya se han procesado\n",
        "    agregaciones_futuras = [a for a in agregaciones_futuras if a[0] != i]\n",
        "\n",
        "    # Calcular el inventario final después de la demanda\n",
        "    Inicial.append(inicial_inventario) #agrega el incial\n",
        "    u1 = round(rnd.uniform(0, 1),6) #genera un número aleatorio entre 0 y 1\n",
        "                                    #con 6 decimales\n",
        "    NumAleatorio.append(u1) #agrega el número aleatorio a la lista\n",
        "    D = demanda(u1) #valor de demanda\n",
        "    FE = Factores_estacionales(i) #factor estacional del mes i\n",
        "    DA = round(D * FE) #Demanda ajustada = demanda * Factor estacional\n",
        "    DemandaAjustada.append(DA) #agrega la demanda ajustada a la lista correspondiente\n",
        "    Fina = inicial_inventario - DA #inventario final\n",
        "    print(f\"Iteración {i}: Inventario Inicial: {inicial_inventario}, Demanda: {D}, Inventario Final: {Fina}\")\n",
        "\n",
        "    # Revisar si el inventario final es menor que R\n",
        "    if Fina < R and not suma_programada: #cuando es menor que R se hace una orden\n",
        "        u2 = rnd.random()\n",
        "        X = tiempos_entrega(u2)\n",
        "        agregaciones_futuras.append((i + X, q)) #agrega la orden a la lista de agregaciones\n",
        "           #en el mes i+X meses agrega 200 al inventario inicial\n",
        "        Ordn=Ordn+1 #se hizo una orden\n",
        "        Orden.append(Ordn) #se registra\n",
        "        print(f\"Se programó sumar 200 al inventario en la iteración {i + X}.\") #mensaje de que se programó en cierta iteración\n",
        "        suma_programada = True  # Indicar que ya se ha programado una suma\n",
        "                #no se vuelve a hacer una orden hasta que la que se hizo llegue\n",
        "    else:\n",
        "        Orden.append(\"\") #no se registra nada si no hubo orden y/o en espera de la orden\n",
        "\n",
        "    # Si la condición Final < R no se cumple, resetear el indicador\n",
        "    if Fina >= R:\n",
        "        suma_programada = False #no hay orden programada y/o en espera de una anterior\n",
        "\n",
        "    if Fina <= 0:\n",
        "        Falt=abs(Fina) #inventario en 0, Faltante es demanda insatisfecha\n",
        "        Faltante.append(Falt)\n",
        "        Fina=0 # El inventario no puede ser negativo\n",
        "        Final.append(Fina)\n",
        "    else:\n",
        "        Final.append(Fina)\n",
        "        Falt=0 #inventario positivo\n",
        "        Faltante.append(0) #no hay faltante\n",
        "         if Fina>0:\n",
        "      IMProm = (inicial_inventario + Fina) / 2 #inventario positivo\n",
        "    else:\n",
        "      IMProm = (inicial_inventario/2)*(inicial_inventario/DA) #inventario negativo/en cero\n",
        "    Promedio.append(IMProm)\n",
        "\n",
        "    # Actualizar el inventario inicial para la siguiente iteración\n",
        "    inicial_inventario = Fina-Falt #Inventario final - Faltante\n"
      ],
      "metadata": {
        "colab": {
          "base_uri": "https://localhost:8080/",
          "height": 106
        },
        "id": "LeZnX_kDK72f",
        "outputId": "feb2bbc8-7e75-4daf-c862-26aa3eb2b978"
      },
      "execution_count": null,
      "outputs": [
        {
          "output_type": "error",
          "ename": "IndentationError",
          "evalue": "unindent does not match any outer indentation level (<tokenize>, line 68)",
          "traceback": [
            "\u001b[0;36m  File \u001b[0;32m\"<tokenize>\"\u001b[0;36m, line \u001b[0;32m68\u001b[0m\n\u001b[0;31m    IMProm = (inicial_inventario + Fina) / 2 #inventario positivo\u001b[0m\n\u001b[0m    ^\u001b[0m\n\u001b[0;31mIndentationError\u001b[0m\u001b[0;31m:\u001b[0m unindent does not match any outer indentation level\n"
          ]
        }
      ]
    },
    {
      "cell_type": "code",
      "source": [],
      "metadata": {
        "id": "uiQbi9E9LD9Q"
      },
      "execution_count": null,
      "outputs": []
    }
  ]
}