{
  "nbformat": 4,
  "nbformat_minor": 0,
  "metadata": {
    "colab": {
      "provenance": [],
      "authorship_tag": "ABX9TyMEkzcbepHtttBlDnc28SLP",
      "include_colab_link": true
    },
    "kernelspec": {
      "name": "python3",
      "display_name": "Python 3"
    },
    "language_info": {
      "name": "python"
    }
  },
  "cells": [
    {
      "cell_type": "markdown",
      "metadata": {
        "id": "view-in-github",
        "colab_type": "text"
      },
      "source": [
        "<a href=\"https://colab.research.google.com/github/Areliortiz/Simulaci-n-/blob/main/Untitled6.ipynb\" target=\"_parent\"><img src=\"https://colab.research.google.com/assets/colab-badge.svg\" alt=\"Open In Colab\"/></a>"
      ]
    },
    {
      "cell_type": "code",
      "execution_count": 12,
      "metadata": {
        "colab": {
          "base_uri": "https://localhost:8080/"
        },
        "id": "LeyhQjKVs2Cb",
        "outputId": "f3824f9c-e650-447b-935d-ca43eedf8455"
      },
      "outputs": [
        {
          "output_type": "stream",
          "name": "stdout",
          "text": [
            "las hipotesis son: \n",
            "Ho: Los numeros de la muestra Xi son independientes\n",
            "Ha: Los numeros de la muestra Xi NO son independientes\n",
            "\n",
            "El numero total de natos n:  25\n",
            "Conjunto S:  [1, 0, 0, 1, 0, 0, 1, 0, 1, 0, 1, 0, 1, 1, 1, 0, 0, 1, 0, 0, 0, 0, 1, 1]\n",
            "El numero de corridas es de 15\n",
            "\n",
            "EL intervalo de aceptación es de: [ -1.96 <= Zo<= 1.96 ]\n",
            " \n",
            "Zo es: -0.32345013477088924\n",
            "Se acepta Ho: Los numeros de la muestra son independientes\n"
          ]
        }
      ],
      "source": [
        "import math\n",
        "print(\"las hipotesis son: \")\n",
        "print(\"Ho: Los numeros de la muestra Xi son independientes\")\n",
        "print(\"Ha: Los numeros de la muestra Xi NO son independientes\\n\")\n",
        "\n",
        "x=[ 0.048, 0.591, 0.478, 0.166, 0.932,\n",
        "    0.926, 0.007, 0.551, 0.362, 0.533,\n",
        "    0.368, 0.437, 0.178, 0.411, 0.545,\n",
        "    0.787, 0.594, 0.086, 0.951, 0.772,\n",
        "    0.298, 0.199, 0.157, 0.401, 0.631]\n",
        "\n",
        "gl=0.95  #grados de libertad\n",
        "N=[]\n",
        "n=x[0]\n",
        "num=len(x)\n",
        "# Construir lista de corridas\n",
        "for i in x:\n",
        "  if i!=n:\n",
        "    if n<i:\n",
        "      N.append(1)\n",
        "    if n>i:\n",
        "      N.append(0)\n",
        "  n=i\n",
        "# Conteo de corridas\n",
        "corridas=0\n",
        "k=9\n",
        "for i in N:\n",
        "  if k==i:\n",
        "    corridas+=0\n",
        "  if k!=i:\n",
        "     corridas+=1\n",
        "  k=i\n",
        "\n",
        "print(\"El numero total de natos n: \", num)\n",
        "print(\"Conjunto S: \", N)\n",
        "print(\"El numero de corridas es de\", corridas)\n",
        "\n",
        "Mc=(2*num-1)/3   # calcula la media\n",
        "var=(16*num-29)/90  # Calcula la varianza\n",
        "Zo=(corridas-Mc)/var # Calcula la distribución\n",
        "\n",
        "# hacemos los intervalo de aceptación\n",
        "za2=1.96\n",
        "zinf=-za2\n",
        "zsup=za2\n",
        "\n",
        "print(\"\\nEL intervalo de aceptación es de: [\", zinf, \"<= Zo<=\", zsup, \"]\")\n",
        "print(\" \")\n",
        "print(\"Zo es:\", Zo)\n",
        "#evalua hipotesis\n",
        "if zinf<Zo and Zo<zsup:\n",
        "  print(\"Se acepta Ho: Los numeros de la muestra son independientes\")\n",
        "else:\n",
        "\n",
        "  print(\"Se rechaza Ho: \")"
      ]
    }
  ]
}