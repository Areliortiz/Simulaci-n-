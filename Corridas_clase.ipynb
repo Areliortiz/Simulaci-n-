{
  "nbformat": 4,
  "nbformat_minor": 0,
  "metadata": {
    "colab": {
      "provenance": [],
      "authorship_tag": "ABX9TyNNzQR8DdaA5G8g89KlMHZv",
      "include_colab_link": true
    },
    "kernelspec": {
      "name": "python3",
      "display_name": "Python 3"
    },
    "language_info": {
      "name": "python"
    }
  },
  "cells": [
    {
      "cell_type": "markdown",
      "metadata": {
        "id": "view-in-github",
        "colab_type": "text"
      },
      "source": [
        "<a href=\"https://colab.research.google.com/github/Areliortiz/Simulaci-n-/blob/main/Corridas_clase.ipynb\" target=\"_parent\"><img src=\"https://colab.research.google.com/assets/colab-badge.svg\" alt=\"Open In Colab\"/></a>"
      ]
    },
    {
      "cell_type": "code",
      "source": [
        "from tabulate import tabulate\n",
        "print(\"las hipotesis son: \")\n",
        "print(\"Ho: Los numeros de la muestra Xi son independientes\")\n",
        "print(\"Ha: Los numeros de la muestra Xi NO son independientes\\n\")\n",
        "\n",
        "x=[ 0.048, 0.591, 0.478, 0.166, 0.932,\n",
        "    0.926, 0.007, 0.551, 0.362, 0.533,\n",
        "    0.368, 0.437, 0.178, 0.411, 0.545,\n",
        "    0.787, 0.594, 0.086, 0.951, 0.772,\n",
        "    0.298, 0.199, 0.157, 0.401, 0.631]\n",
        "\n",
        "gl=0.95  #grados de libertad\n",
        "N=[]\n",
        "n=x[0]\n",
        "num=len(x)\n",
        "# Construir lista de corridas\n",
        "\n",
        "#producto medio, este programa pedira 2 numeros de tres digitos\n",
        "xo=int(input(\"dame un número de 3 dígitos: \"))\n",
        "xn=int(input(\"dame el segundo número de 3 dígitos: \"))\n",
        "lista_principal=[]\n",
        "\n",
        "for m in range(20):\n",
        "  producto_inicial= xo*xn;\n",
        "  #convierte el producto en un str\n",
        "  cadena=str(producto_inicial)\n",
        "  digitos=len(cadena)\n",
        "\n",
        "  #agraega un cero al inicio para tomar los 3 valores de enmedio\n",
        "  if digitos==6:\n",
        "    cero=str(0);\n",
        "    cadena=cero+cadena;\n",
        "    xnn=[cadena[i]for i in range(2,5)];\n",
        "  #toma  los 3 valores de enmedio del producto\n",
        "  else:\n",
        "    xnn=[cadena[i]for i in range(1,4)];\n",
        "  #convierte la lista en str y luego a entero\n",
        "  int_xnn=''.join(xnn)\n",
        "  entero=int(int_xnn)\n",
        "  #crea la tabal\n",
        "  lista_principal.append([m, xo, xn,producto_inicial,entero ])\n",
        "  #canvia las variables para continuar con el for\n",
        "  xo=xn\n",
        "  xn=entero\n",
        "  #imprime la tabla\n",
        "headers = [\"n.iteracion\", \"primer valor\", \"segundo valor\", \"producto \",\"valor nuevo\"]\n",
        "print(tabulate(lista_principal, headers=headers, tablefmt=\"grid\"))"
      ],
      "metadata": {
        "colab": {
          "base_uri": "https://localhost:8080/"
        },
        "id": "fJQLkOrA2b3O",
        "outputId": "35186805-4db4-45d2-8201-da6efc378554"
      },
      "execution_count": 7,
      "outputs": [
        {
          "output_type": "stream",
          "name": "stdout",
          "text": [
            "las hipotesis son: \n",
            "Ho: Los numeros de la muestra Xi son independientes\n",
            "Ha: Los numeros de la muestra Xi NO son independientes\n",
            "\n",
            "dame un número de 3 dígitos: 123\n",
            "dame el segundo número de 3 dígitos: 456\n",
            "+---------------+----------------+-----------------+-------------+---------------+\n",
            "|   n.iteracion |   primer valor |   segundo valor |   producto  |   valor nuevo |\n",
            "+===============+================+=================+=============+===============+\n",
            "|             0 |            123 |             456 |       56088 |           608 |\n",
            "+---------------+----------------+-----------------+-------------+---------------+\n",
            "|             1 |            456 |             608 |      277248 |           772 |\n",
            "+---------------+----------------+-----------------+-------------+---------------+\n",
            "|             2 |            608 |             772 |      469376 |           693 |\n",
            "+---------------+----------------+-----------------+-------------+---------------+\n",
            "|             3 |            772 |             693 |      534996 |           349 |\n",
            "+---------------+----------------+-----------------+-------------+---------------+\n",
            "|             4 |            693 |             349 |      241857 |           418 |\n",
            "+---------------+----------------+-----------------+-------------+---------------+\n",
            "|             5 |            349 |             418 |      145882 |           458 |\n",
            "+---------------+----------------+-----------------+-------------+---------------+\n",
            "|             6 |            418 |             458 |      191444 |           914 |\n",
            "+---------------+----------------+-----------------+-------------+---------------+\n",
            "|             7 |            458 |             914 |      418612 |           186 |\n",
            "+---------------+----------------+-----------------+-------------+---------------+\n",
            "|             8 |            914 |             186 |      170004 |           700 |\n",
            "+---------------+----------------+-----------------+-------------+---------------+\n",
            "|             9 |            186 |             700 |      130200 |           302 |\n",
            "+---------------+----------------+-----------------+-------------+---------------+\n",
            "|            10 |            700 |             302 |      211400 |           114 |\n",
            "+---------------+----------------+-----------------+-------------+---------------+\n",
            "|            11 |            302 |             114 |       34428 |           442 |\n",
            "+---------------+----------------+-----------------+-------------+---------------+\n",
            "|            12 |            114 |             442 |       50388 |            38 |\n",
            "+---------------+----------------+-----------------+-------------+---------------+\n",
            "|            13 |            442 |              38 |       16796 |           679 |\n",
            "+---------------+----------------+-----------------+-------------+---------------+\n",
            "|            14 |             38 |             679 |       25802 |           580 |\n",
            "+---------------+----------------+-----------------+-------------+---------------+\n",
            "|            15 |            679 |             580 |      393820 |           938 |\n",
            "+---------------+----------------+-----------------+-------------+---------------+\n",
            "|            16 |            580 |             938 |      544040 |           440 |\n",
            "+---------------+----------------+-----------------+-------------+---------------+\n",
            "|            17 |            938 |             440 |      412720 |           127 |\n",
            "+---------------+----------------+-----------------+-------------+---------------+\n",
            "|            18 |            440 |             127 |       55880 |           588 |\n",
            "+---------------+----------------+-----------------+-------------+---------------+\n",
            "|            19 |            127 |             588 |       74676 |           467 |\n",
            "+---------------+----------------+-----------------+-------------+---------------+\n"
          ]
        }
      ]
    }
  ]
}