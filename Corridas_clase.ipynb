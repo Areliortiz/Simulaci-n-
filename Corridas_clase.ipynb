{
  "nbformat": 4,
  "nbformat_minor": 0,
  "metadata": {
    "colab": {
      "provenance": [],
      "authorship_tag": "ABX9TyPyyRGuIqLCXryww9NSVnfZ",
      "include_colab_link": true
    },
    "kernelspec": {
      "name": "python3",
      "display_name": "Python 3"
    },
    "language_info": {
      "name": "python"
    }
  },
  "cells": [
    {
      "cell_type": "markdown",
      "metadata": {
        "id": "view-in-github",
        "colab_type": "text"
      },
      "source": [
        "<a href=\"https://colab.research.google.com/github/Areliortiz/Simulaci-n-/blob/main/Corridas_clase.ipynb\" target=\"_parent\"><img src=\"https://colab.research.google.com/assets/colab-badge.svg\" alt=\"Open In Colab\"/></a>"
      ]
    },
    {
      "cell_type": "code",
      "source": [
        "from tabulate import tabulate\n",
        "\n",
        "#producto medio, este programa pedira 2 numeros de tres digitos\n",
        "xo=int(input(\"dame un número de 3 dígitos: \"))\n",
        "xn=int(input(\"dame el segundo número de 3 dígitos: \"))\n",
        "lista_principal=[]\n",
        "\n",
        "for m in range(20):\n",
        "  producto_inicial= xo*xn;\n",
        "  #convierte el producto en un str\n",
        "  cadena=str(producto_inicial)\n",
        "  digitos=len(cadena)\n",
        "\n",
        "  #agraega un cero al inicio para tomar los 3 valores de enmedio\n",
        "  if digitos==6:\n",
        "    cero=str(0);\n",
        "    cadena=cero+cadena;\n",
        "    xnn=[cadena[i]for i in range(2,5)];\n",
        "  #toma  los 3 valores de enmedio del producto\n",
        "  else:\n",
        "    xnn=[cadena[i]for i in range(1,4)];\n",
        "  #convierte la lista en str y luego a entero\n",
        "  int_xnn=''.join(xnn)\n",
        "  entero=int(int_xnn)\n",
        "  #crea la tabal\n",
        "  lista_principal.append([m, xo, xn,producto_inicial,entero ])\n",
        "  #canvia las variables para continuar con el for\n",
        "  xo=xn\n",
        "  xn=entero\n",
        "  #imprime la tabla\n",
        "headers = [\"n.iteracion\", \"primer valor\", \"segundo valor\", \"producto \",\"valor nuevo\"]\n",
        "print(tabulate(lista_principal, headers=headers, tablefmt=\"grid\"))"
      ],
      "metadata": {
        "colab": {
          "base_uri": "https://localhost:8080/"
        },
        "id": "fJQLkOrA2b3O",
        "outputId": "78b147f5-4e03-4538-e1d1-46577966e519"
      },
      "execution_count": 3,
      "outputs": [
        {
          "output_type": "stream",
          "name": "stdout",
          "text": [
            "dame un número de 3 dígitos: 456\n",
            "dame el segundo número de 3 dígitos: 564\n",
            "+---------------+----------------+-----------------+-------------+---------------+\n",
            "|   n.iteracion |   primer valor |   segundo valor |   producto  |   valor nuevo |\n",
            "+===============+================+=================+=============+===============+\n",
            "|             0 |            456 |             564 |      257184 |           571 |\n",
            "+---------------+----------------+-----------------+-------------+---------------+\n",
            "|             1 |            564 |             571 |      322044 |           220 |\n",
            "+---------------+----------------+-----------------+-------------+---------------+\n",
            "|             2 |            571 |             220 |      125620 |           256 |\n",
            "+---------------+----------------+-----------------+-------------+---------------+\n",
            "|             3 |            220 |             256 |       56320 |           632 |\n",
            "+---------------+----------------+-----------------+-------------+---------------+\n",
            "|             4 |            256 |             632 |      161792 |           617 |\n",
            "+---------------+----------------+-----------------+-------------+---------------+\n",
            "|             5 |            632 |             617 |      389944 |           899 |\n",
            "+---------------+----------------+-----------------+-------------+---------------+\n",
            "|             6 |            617 |             899 |      554683 |           546 |\n",
            "+---------------+----------------+-----------------+-------------+---------------+\n",
            "|             7 |            899 |             546 |      490854 |           908 |\n",
            "+---------------+----------------+-----------------+-------------+---------------+\n",
            "|             8 |            546 |             908 |      495768 |           957 |\n",
            "+---------------+----------------+-----------------+-------------+---------------+\n",
            "|             9 |            908 |             957 |      868956 |           689 |\n",
            "+---------------+----------------+-----------------+-------------+---------------+\n",
            "|            10 |            957 |             689 |      659373 |           593 |\n",
            "+---------------+----------------+-----------------+-------------+---------------+\n",
            "|            11 |            689 |             593 |      408577 |            85 |\n",
            "+---------------+----------------+-----------------+-------------+---------------+\n",
            "|            12 |            593 |              85 |       50405 |            40 |\n",
            "+---------------+----------------+-----------------+-------------+---------------+\n",
            "|            13 |             85 |              40 |        3400 |           400 |\n",
            "+---------------+----------------+-----------------+-------------+---------------+\n",
            "|            14 |             40 |             400 |       16000 |           600 |\n",
            "+---------------+----------------+-----------------+-------------+---------------+\n",
            "|            15 |            400 |             600 |      240000 |           400 |\n",
            "+---------------+----------------+-----------------+-------------+---------------+\n",
            "|            16 |            600 |             400 |      240000 |           400 |\n",
            "+---------------+----------------+-----------------+-------------+---------------+\n",
            "|            17 |            400 |             400 |      160000 |           600 |\n",
            "+---------------+----------------+-----------------+-------------+---------------+\n",
            "|            18 |            400 |             600 |      240000 |           400 |\n",
            "+---------------+----------------+-----------------+-------------+---------------+\n",
            "|            19 |            600 |             400 |      240000 |           400 |\n",
            "+---------------+----------------+-----------------+-------------+---------------+\n"
          ]
        }
      ]
    }
  ]
}