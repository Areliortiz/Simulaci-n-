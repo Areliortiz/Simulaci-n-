{
  "nbformat": 4,
  "nbformat_minor": 0,
  "metadata": {
    "colab": {
      "provenance": [],
      "authorship_tag": "ABX9TyMWIHcZdYh4ETCPFe4Om9nw",
      "include_colab_link": true
    },
    "kernelspec": {
      "name": "python3",
      "display_name": "Python 3"
    },
    "language_info": {
      "name": "python"
    }
  },
  "cells": [
    {
      "cell_type": "markdown",
      "metadata": {
        "id": "view-in-github",
        "colab_type": "text"
      },
      "source": [
        "<a href=\"https://colab.research.google.com/github/Areliortiz/Simulaci-n-/blob/main/Corridas_clase.ipynb\" target=\"_parent\"><img src=\"https://colab.research.google.com/assets/colab-badge.svg\" alt=\"Open In Colab\"/></a>"
      ]
    },
    {
      "cell_type": "code",
      "source": [
        "from tabulate import tabulate\n",
        "print(\"las hipotesis son: \")\n",
        "print(\"Ho: Los numeros de la muestra Xi son independientes\")\n",
        "print(\"Ha: Los numeros de la muestra Xi NO son independientes\\n\")\n",
        "\n",
        "x=[ 0.048, 0.591, 0.478, 0.166, 0.932,\n",
        "    0.926, 0.007, 0.551, 0.362, 0.533,\n",
        "    0.368, 0.437, 0.178, 0.411, 0.545,\n",
        "    0.787, 0.594, 0.086, 0.951, 0.772,\n",
        "    0.298, 0.199, 0.157, 0.401, 0.631]\n",
        "\n",
        "gl=0.95  #grados de libertad\n",
        "N=[]\n",
        "n=x[0]\n",
        "num=len(x)\n",
        "# Construir lista de corridas\n",
        "for i in x:\n",
        "  if i!=n:\n",
        "    if n<i:\n",
        "      N.append(1)\n",
        "    if n>i:\n",
        "      N.append(0)\n",
        "  n=i\n",
        "# Conteo de corridas\n",
        "corridas=0\n",
        "k=9\n",
        "for i in N:\n",
        "  if k==i:\n",
        "    corridas+=0\n",
        "  if k!=i:\n",
        "     corridas+=1\n",
        "  k=i\n",
        "\n",
        "print(\"El numero total de natos n: \", num)\n",
        "print(\"Conjunto S: \", N)\n",
        "print(\"El numero de corridas es de\", corridas)\n",
        "\n",
        "Mc=(2*num-1)/3   # calcula la media\n",
        "var=(16*num-29)/90  # Calcula la varianza\n",
        "Zo=(corridas-Mc)/var # Calcula la distribución\n",
        "\n",
        "# hacemos los intervalo de aceptación\n",
        "za2=1.96\n",
        "zinf=-za2\n",
        "zsup=za2\n",
        "\n",
        "print(\"\\nEL intervalo de aceptación es de: [\", zinf, \"<= Zo<=\", zsup, \"]\")\n",
        "print(\" \")\n",
        "print(\"Zo es:\", Zo)\n",
        "#evalua hipotesis\n",
        "if zinf<Zo and Zo<zsup:\n",
        "  print(\"Se acepta Ho: Los numeros de la muestra son independientes\")\n",
        "else:\n",
        "\n",
        "  print(\"Se rechaza Ho: \")\n",
        "\n",
        "#producto medio, este programa pedira 2 numeros de tres digitos\n",
        "xo=int(input(\"dame un número de 3 dígitos: \"))\n",
        "xn=int(input(\"dame el segundo número de 3 dígitos: \"))\n",
        "lista_principal=[]\n",
        "\n",
        "for m in range(20):\n",
        "  producto_inicial= xo*xn;\n",
        "  #convierte el producto en un str\n",
        "  cadena=str(producto_inicial)\n",
        "  digitos=len(cadena)\n",
        "\n",
        "  #agraega un cero al inicio para tomar los 3 valores de enmedio\n",
        "  if digitos==6:\n",
        "    cero=str(0);\n",
        "    cadena=cero+cadena;\n",
        "    xnn=[cadena[i]for i in range(2,5)];\n",
        "  #toma  los 3 valores de enmedio del producto\n",
        "  else:\n",
        "    xnn=[cadena[i]for i in range(1,4)];\n",
        "  #convierte la lista en str y luego a entero\n",
        "  int_xnn=''.join(xnn)\n",
        "  entero=int(int_xnn)\n",
        "  #crea la tabal\n",
        "  lista_principal.append([m, xo, xn,producto_inicial,entero ])\n",
        "  #canvia las variables para continuar con el for\n",
        "  xo=xn\n",
        "  xn=entero\n",
        "  #imprime la tabla\n",
        "headers = [\"n.iteracion\", \"primer valor\", \"segundo valor\", \"producto \",\"valor nuevo\"]\n",
        "print(tabulate(lista_principal, headers=headers, tablefmt=\"grid\"))"
      ],
      "metadata": {
        "colab": {
          "base_uri": "https://localhost:8080/",
          "height": 609
        },
        "id": "fJQLkOrA2b3O",
        "outputId": "230b73aa-90f7-4c42-c759-d2c023082db5"
      },
      "execution_count": 10,
      "outputs": [
        {
          "name": "stdout",
          "output_type": "stream",
          "text": [
            "las hipotesis son: \n",
            "Ho: Los numeros de la muestra Xi son independientes\n",
            "Ha: Los numeros de la muestra Xi NO son independientes\n",
            "\n",
            "El numero total de natos n:  25\n",
            "Conjunto S:  [1, 0, 0, 1, 0, 0, 1, 0, 1, 0, 1, 0, 1, 1, 1, 0, 0, 1, 0, 0, 0, 0, 1, 1]\n",
            "El numero de corridas es de 15\n",
            "\n",
            "EL intervalo de aceptación es de: [ -1.96 <= Zo<= 1.96 ]\n",
            " \n",
            "Zo es: -0.32345013477088924\n",
            "Se acepta Ho: Los numeros de la muestra son independientes\n",
            "dame un número de 3 dígitos: 123\n",
            "dame el segundo número de 3 dígitos: 345\n"
          ]
        },
        {
          "output_type": "error",
          "ename": "IndexError",
          "evalue": "string index out of range",
          "traceback": [
            "\u001b[0;31m---------------------------------------------------------------------------\u001b[0m",
            "\u001b[0;31mIndexError\u001b[0m                                Traceback (most recent call last)",
            "\u001b[0;32m<ipython-input-10-62ec801abbbb>\u001b[0m in \u001b[0;36m<cell line: 62>\u001b[0;34m()\u001b[0m\n\u001b[1;32m     73\u001b[0m   \u001b[0;31m#toma  los 3 valores de enmedio del producto\u001b[0m\u001b[0;34m\u001b[0m\u001b[0;34m\u001b[0m\u001b[0m\n\u001b[1;32m     74\u001b[0m   \u001b[0;32melse\u001b[0m\u001b[0;34m:\u001b[0m\u001b[0;34m\u001b[0m\u001b[0;34m\u001b[0m\u001b[0m\n\u001b[0;32m---> 75\u001b[0;31m     \u001b[0mxnn\u001b[0m\u001b[0;34m=\u001b[0m\u001b[0;34m[\u001b[0m\u001b[0mcadena\u001b[0m\u001b[0;34m[\u001b[0m\u001b[0mi\u001b[0m\u001b[0;34m]\u001b[0m\u001b[0;32mfor\u001b[0m \u001b[0mi\u001b[0m \u001b[0;32min\u001b[0m \u001b[0mrange\u001b[0m\u001b[0;34m(\u001b[0m\u001b[0;36m1\u001b[0m\u001b[0;34m,\u001b[0m\u001b[0;36m4\u001b[0m\u001b[0;34m)\u001b[0m\u001b[0;34m]\u001b[0m\u001b[0;34m;\u001b[0m\u001b[0;34m\u001b[0m\u001b[0;34m\u001b[0m\u001b[0m\n\u001b[0m\u001b[1;32m     76\u001b[0m   \u001b[0;31m#convierte la lista en str y luego a entero\u001b[0m\u001b[0;34m\u001b[0m\u001b[0;34m\u001b[0m\u001b[0m\n\u001b[1;32m     77\u001b[0m   \u001b[0mint_xnn\u001b[0m\u001b[0;34m=\u001b[0m\u001b[0;34m''\u001b[0m\u001b[0;34m.\u001b[0m\u001b[0mjoin\u001b[0m\u001b[0;34m(\u001b[0m\u001b[0mxnn\u001b[0m\u001b[0;34m)\u001b[0m\u001b[0;34m\u001b[0m\u001b[0;34m\u001b[0m\u001b[0m\n",
            "\u001b[0;32m<ipython-input-10-62ec801abbbb>\u001b[0m in \u001b[0;36m<listcomp>\u001b[0;34m(.0)\u001b[0m\n\u001b[1;32m     73\u001b[0m   \u001b[0;31m#toma  los 3 valores de enmedio del producto\u001b[0m\u001b[0;34m\u001b[0m\u001b[0;34m\u001b[0m\u001b[0m\n\u001b[1;32m     74\u001b[0m   \u001b[0;32melse\u001b[0m\u001b[0;34m:\u001b[0m\u001b[0;34m\u001b[0m\u001b[0;34m\u001b[0m\u001b[0m\n\u001b[0;32m---> 75\u001b[0;31m     \u001b[0mxnn\u001b[0m\u001b[0;34m=\u001b[0m\u001b[0;34m[\u001b[0m\u001b[0mcadena\u001b[0m\u001b[0;34m[\u001b[0m\u001b[0mi\u001b[0m\u001b[0;34m]\u001b[0m\u001b[0;32mfor\u001b[0m \u001b[0mi\u001b[0m \u001b[0;32min\u001b[0m \u001b[0mrange\u001b[0m\u001b[0;34m(\u001b[0m\u001b[0;36m1\u001b[0m\u001b[0;34m,\u001b[0m\u001b[0;36m4\u001b[0m\u001b[0;34m)\u001b[0m\u001b[0;34m]\u001b[0m\u001b[0;34m;\u001b[0m\u001b[0;34m\u001b[0m\u001b[0;34m\u001b[0m\u001b[0m\n\u001b[0m\u001b[1;32m     76\u001b[0m   \u001b[0;31m#convierte la lista en str y luego a entero\u001b[0m\u001b[0;34m\u001b[0m\u001b[0;34m\u001b[0m\u001b[0m\n\u001b[1;32m     77\u001b[0m   \u001b[0mint_xnn\u001b[0m\u001b[0;34m=\u001b[0m\u001b[0;34m''\u001b[0m\u001b[0;34m.\u001b[0m\u001b[0mjoin\u001b[0m\u001b[0;34m(\u001b[0m\u001b[0mxnn\u001b[0m\u001b[0;34m)\u001b[0m\u001b[0;34m\u001b[0m\u001b[0;34m\u001b[0m\u001b[0m\n",
            "\u001b[0;31mIndexError\u001b[0m: string index out of range"
          ]
        }
      ]
    }
  ]
}