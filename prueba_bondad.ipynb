{
  "nbformat": 4,
  "nbformat_minor": 0,
  "metadata": {
    "colab": {
      "provenance": [],
      "include_colab_link": true
    },
    "kernelspec": {
      "name": "python3",
      "display_name": "Python 3"
    },
    "language_info": {
      "name": "python"
    }
  },
  "cells": [
    {
      "cell_type": "markdown",
      "metadata": {
        "id": "view-in-github",
        "colab_type": "text"
      },
      "source": [
        "<a href=\"https://colab.research.google.com/github/Areliortiz/Simulaci-n-/blob/main/prueba_bondad.ipynb\" target=\"_parent\"><img src=\"https://colab.research.google.com/assets/colab-badge.svg\" alt=\"Open In Colab\"/></a>"
      ]
    },
    {
      "cell_type": "code",
      "execution_count": 16,
      "metadata": {
        "id": "WoANU3mFz93w",
        "outputId": "96466551-3661-4aba-e8d6-046c2d79267c",
        "colab": {
          "base_uri": "https://localhost:8080/",
          "height": 106
        }
      },
      "outputs": [
        {
          "output_type": "error",
          "ename": "SyntaxError",
          "evalue": "invalid syntax. Perhaps you forgot a comma? (<ipython-input-16-28e685e0c22e>, line 28)",
          "traceback": [
            "\u001b[0;36m  File \u001b[0;32m\"<ipython-input-16-28e685e0c22e>\"\u001b[0;36m, line \u001b[0;32m28\u001b[0m\n\u001b[0;31m    lista_principal.append([x\"-\"y,fo,fe, resta, division])\u001b[0m\n\u001b[0m                             ^\u001b[0m\n\u001b[0;31mSyntaxError\u001b[0m\u001b[0;31m:\u001b[0m invalid syntax. Perhaps you forgot a comma?\n"
          ]
        }
      ],
      "source": [
        "from tabulate import tabulate\n",
        "50\n",
        "x=0;\n",
        "#lista_fo=[]\n",
        "#lista_resta=[]\n",
        "lista_principal=[]\n",
        "lista_de_total=[]\n",
        "tfo=0\n",
        "tfe=0\n",
        "tres=0\n",
        "tdiv=0\n",
        "lista_division=0\n",
        "fe=float(input(\"fe = \"))\n",
        "for x in range (5):\n",
        "   #Pedimos los datos de la tabla\n",
        "   fo=float(input(\"fo = \"));\n",
        "   tfo=fo+tfo\n",
        "   tfe=tfe+fe\n",
        "   resta=fo-fe;\n",
        "   tres=resta+tres\n",
        "   #print(resta)\n",
        "   cuadrado=(resta)**2;\n",
        "   #print(cuadrado)\n",
        "   division=cuadrado/fe;\n",
        "   tdiv=tdiv+division\n",
        "   #print(division)\n",
        "   lista_division=lista_division+division\n",
        "   #print(lista_division)\n",
        "   lista_principal.append([fo,fe, resta, division])\n",
        "#print(lista_principal1)\n",
        "\n",
        "lista_principal.append([tfo,tfe,tres,tdiv])\n",
        "headers = [\"x\", \"numero\", \"cuadrado\", \"medio\"]\n",
        "print(tabulate(lista_principal, headers=headers, tablefmt=\"grid\"))\n",
        "\n"
      ]
    },
    {
      "cell_type": "markdown",
      "source": [],
      "metadata": {
        "id": "eisUU_wP1IE3"
      }
    }
  ]
}