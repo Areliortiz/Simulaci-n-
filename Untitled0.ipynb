{
  "nbformat": 4,
  "nbformat_minor": 0,
  "metadata": {
    "colab": {
      "provenance": [],
      "authorship_tag": "ABX9TyNVFEdbIK+GBMol7QzN1FKd",
      "include_colab_link": true
    },
    "kernelspec": {
      "name": "python3",
      "display_name": "Python 3"
    },
    "language_info": {
      "name": "python"
    }
  },
  "cells": [
    {
      "cell_type": "markdown",
      "metadata": {
        "id": "view-in-github",
        "colab_type": "text"
      },
      "source": [
        "<a href=\"https://colab.research.google.com/github/Areliortiz/Simulaci-n-/blob/main/Untitled0.ipynb\" target=\"_parent\"><img src=\"https://colab.research.google.com/assets/colab-badge.svg\" alt=\"Open In Colab\"/></a>"
      ]
    },
    {
      "cell_type": "code",
      "execution_count": 39,
      "metadata": {
        "colab": {
          "base_uri": "https://localhost:8080/"
        },
        "id": "-0Qi4Sb93p0-",
        "outputId": "bd644767-69ba-4de7-e472-e484f0c46347"
      },
      "outputs": [
        {
          "output_type": "stream",
          "name": "stdout",
          "text": [
            "escribe numero5113\n",
            "26142769\n",
            "8\n",
            "26142769\n",
            "['1', '4', '2', '7']\n"
          ]
        }
      ],
      "source": [
        "x=int(input(\"escribe numero\"))\n",
        "n=x*x\n",
        "print(n)\n",
        "cadena=str(n)\n",
        "cantidad=len(cadena)\n",
        "print(cantidad)\n",
        "cero=str(0)\n",
        "\n",
        "if cantidad < 8:\n",
        "  cadena= cero + cadena\n",
        "  print(cadena)\n",
        "else:\n",
        "\n",
        "  print(cadena)\n",
        "\n",
        "  h=[cadena[i] for i in range(2,6)]\n",
        "  print(h)\n"
      ]
    },
    {
      "cell_type": "code",
      "source": [
        "="
      ],
      "metadata": {
        "id": "7OohMpUF8m4i"
      },
      "execution_count": null,
      "outputs": []
    }
  ]
}