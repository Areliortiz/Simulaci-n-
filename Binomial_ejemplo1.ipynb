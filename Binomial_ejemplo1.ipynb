{
  "nbformat": 4,
  "nbformat_minor": 0,
  "metadata": {
    "colab": {
      "provenance": [],
      "authorship_tag": "ABX9TyNquKglQFbOzrSoBoFzM/5u",
      "include_colab_link": true
    },
    "kernelspec": {
      "name": "python3",
      "display_name": "Python 3"
    },
    "language_info": {
      "name": "python"
    }
  },
  "cells": [
    {
      "cell_type": "markdown",
      "metadata": {
        "id": "view-in-github",
        "colab_type": "text"
      },
      "source": [
        "<a href=\"https://colab.research.google.com/github/Areliortiz/Simulaci-n-/blob/main/Binomial_ejemplo1.ipynb\" target=\"_parent\"><img src=\"https://colab.research.google.com/assets/colab-badge.svg\" alt=\"Open In Colab\"/></a>"
      ]
    },
    {
      "cell_type": "code",
      "execution_count": 10,
      "metadata": {
        "id": "s4KgJhsnAtjN"
      },
      "outputs": [],
      "source": [
        "import random as rnd\n",
        "import numpy as np\n",
        "import matplotlib.pyplot as plt\n",
        "#n=10\n",
        "#lam=2\n",
        "#l= -1/lam"
      ]
    },
    {
      "cell_type": "code",
      "source": [
        "def expo(lam=2,n=10):\n",
        "    l= -1/lam\n",
        "    #lam,n= 2,10\n",
        "    list=[]\n",
        "    for i in range(n):\n",
        "        u=rnd.random()\n",
        "#1-p, p=.5,\n",
        "        if u>= .5:\n",
        "         x=1\n",
        "        else:\n",
        "         x=0\n",
        "        list.append(x)\n",
        "    return list"
      ],
      "metadata": {
        "id": "RE_Vu6RXO-w7"
      },
      "execution_count": null,
      "outputs": []
    },
    {
      "cell_type": "code",
      "source": [
        "def expo(lam=2,n=10):\n",
        "    l= -1/lam\n",
        "    #lam,n= 2,10\n",
        "    list=[]\n",
        "    for i in range(n):\n",
        "        u=rnd.random()\n",
        "#1-p, p=.5,\n",
        "        if u< .15:\n",
        "         x=1\n",
        "        elif u<0.2:\n",
        "          x=2\n",
        "        elif u<0.55:\n",
        "          x=3\n",
        "        else:\n",
        "         x=4\n",
        "        list.append(x)\n",
        "    return list"
      ],
      "metadata": {
        "id": "4PsA_2H8UGtp"
      },
      "execution_count": 13,
      "outputs": []
    },
    {
      "cell_type": "code",
      "source": [
        "#usa el algoritmo\n",
        "g= expo(.5,10)\n",
        "print(g)"
      ],
      "metadata": {
        "id": "czoWsdQyD2Iu",
        "colab": {
          "base_uri": "https://localhost:8080/"
        },
        "outputId": "46c93d28-5d69-4df9-aa16-2fd2ec3014ca"
      },
      "execution_count": 14,
      "outputs": [
        {
          "output_type": "stream",
          "name": "stdout",
          "text": [
            "[4, 3, 4, 4, 3, 4, 1, 3, 2, 1]\n"
          ]
        }
      ]
    },
    {
      "cell_type": "code",
      "source": [
        "\n",
        "#calcula media\n",
        "mu=np.mean(g)\n",
        "print(mu)"
      ],
      "metadata": {
        "colab": {
          "base_uri": "https://localhost:8080/"
        },
        "id": "csFwht76HWlY",
        "outputId": "ee8a4f1d-fe02-4942-d383-9476153af75e"
      },
      "execution_count": 15,
      "outputs": [
        {
          "output_type": "stream",
          "name": "stdout",
          "text": [
            "2.9\n"
          ]
        }
      ]
    },
    {
      "cell_type": "code",
      "source": [
        "\n",
        "#calcula varianza\n",
        "sigma=np.var(g)\n",
        "print(sigma)"
      ],
      "metadata": {
        "colab": {
          "base_uri": "https://localhost:8080/"
        },
        "id": "1tivK0pFH-7B",
        "outputId": "0f13c98b-b21f-4d62-cbae-95078a01d9d4"
      },
      "execution_count": 16,
      "outputs": [
        {
          "output_type": "stream",
          "name": "stdout",
          "text": [
            "1.29\n"
          ]
        }
      ]
    },
    {
      "cell_type": "code",
      "source": [
        "plt.plot(g)\n",
        "#grafica, imprime valores de g\n",
        "#sucesion"
      ],
      "metadata": {
        "colab": {
          "base_uri": "https://localhost:8080/",
          "height": 447
        },
        "id": "UsuNF3rRIT_X",
        "outputId": "57a6ca46-3802-4b5b-9b28-3f0d1438d29c"
      },
      "execution_count": 17,
      "outputs": [
        {
          "output_type": "execute_result",
          "data": {
            "text/plain": [
              "[<matplotlib.lines.Line2D at 0x7e88652a42e0>]"
            ]
          },
          "metadata": {},
          "execution_count": 17
        },
        {
          "output_type": "display_data",
          "data": {
            "text/plain": [
              "<Figure size 640x480 with 1 Axes>"
            ],
            "image/png": "[encoded data removed]"
          },
          "metadata": {}
        }
      ]
    },
    {
      "cell_type": "code",
      "source": [
        "plt.hist(g,bins=50)\n",
        "#imprime histograma\n",
        "#densidad\n",
        "#bins, modifica ancho de las barras"
      ],
      "metadata": {
        "colab": {
          "base_uri": "https://localhost:8080/",
          "height": 586
        },
        "id": "Fv41VfXYKF36",
        "outputId": "030feb33-7d8d-474f-fcf0-4cd6c9a5c9bd"
      },
      "execution_count": 18,
      "outputs": [
        {
          "output_type": "execute_result",
          "data": {
            "text/plain": [
              "(array([2., 0., 0., 0., 0., 0., 0., 0., 0., 0., 0., 0., 0., 0., 0., 0., 1.,\n",
              "        0., 0., 0., 0., 0., 0., 0., 0., 0., 0., 0., 0., 0., 0., 0., 0., 3.,\n",
              "        0., 0., 0., 0., 0., 0., 0., 0., 0., 0., 0., 0., 0., 0., 0., 4.]),\n",
              " array([1.  , 1.06, 1.12, 1.18, 1.24, 1.3 , 1.36, 1.42, 1.48, 1.54, 1.6 ,\n",
              "        1.66, 1.72, 1.78, 1.84, 1.9 , 1.96, 2.02, 2.08, 2.14, 2.2 , 2.26,\n",
              "        2.32, 2.38, 2.44, 2.5 , 2.56, 2.62, 2.68, 2.74, 2.8 , 2.86, 2.92,\n",
              "        2.98, 3.04, 3.1 , 3.16, 3.22, 3.28, 3.34, 3.4 , 3.46, 3.52, 3.58,\n",
              "        3.64, 3.7 , 3.76, 3.82, 3.88, 3.94, 4.  ]),\n",
              " <BarContainer object of 50 artists>)"
            ]
          },
          "metadata": {},
          "execution_count": 18
        },
        {
          "output_type": "display_data",
          "data": {
            "text/plain": [
              "<Figure size 640x480 with 1 Axes>"
            ],
            "image/png": "[encoded data removed]"
          },
          "metadata": {}
        }
      ]
    },
    {
      "cell_type": "code",
      "source": [
        "#Acumulada"
      ],
      "metadata": {
        "id": "kHuKHrmGRzLk"
      },
      "execution_count": null,
      "outputs": []
    },
    {
      "cell_type": "code",
      "source": [
        "def cdf(g):\n",
        "  n=len(g)\n",
        "  x=np.sort(g)\n",
        "  y=np.arange(0,n)/n\n",
        "  return x,y"
      ],
      "metadata": {
        "id": "UObDck96Uqeg"
      },
      "execution_count": 19,
      "outputs": []
    },
    {
      "cell_type": "code",
      "source": [
        "x,y=cdf(g)"
      ],
      "metadata": {
        "id": "VeCLk60VUtZn"
      },
      "execution_count": 20,
      "outputs": []
    },
    {
      "cell_type": "code",
      "source": [
        "\n",
        "plt.step(x,y)\n",
        "#media\n",
        "#plt.axvline(mu,color=\"green\")\n",
        "#mediana\n",
        "#plt.axhline(.5,color=\"red\")"
      ],
      "metadata": {
        "colab": {
          "base_uri": "https://localhost:8080/",
          "height": 447
        },
        "id": "N8ckJ8eRU1-1",
        "outputId": "760035b2-dfe3-4555-9bff-95f76dc6b9c0"
      },
      "execution_count": 22,
      "outputs": [
        {
          "output_type": "execute_result",
          "data": {
            "text/plain": [
              "[<matplotlib.lines.Line2D at 0x7e88650ab220>]"
            ]
          },
          "metadata": {},
          "execution_count": 22
        },
        {
          "output_type": "display_data",
          "data": {
            "text/plain": [
              "<Figure size 640x480 with 1 Axes>"
            ],
            "image/png": "[encoded data removed]"
          },
          "metadata": {}
        }
      ]
    },
    {
      "cell_type": "code",
      "source": [],
      "metadata": {
        "id": "2mx7ymktZWuL"
      },
      "execution_count": null,
      "outputs": []
    }
  ]
}