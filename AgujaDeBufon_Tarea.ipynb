{
  "nbformat": 4,
  "nbformat_minor": 0,
  "metadata": {
    "colab": {
      "provenance": [],
      "include_colab_link": true
    },
    "kernelspec": {
      "name": "python3",
      "display_name": "Python 3"
    },
    "language_info": {
      "name": "python"
    }
  },
  "cells": [
    {
      "cell_type": "markdown",
      "metadata": {
        "id": "view-in-github",
        "colab_type": "text"
      },
      "source": [
        "<a href=\"https://colab.research.google.com/github/Areliortiz/Simulaci-n-/blob/main/AgujaDeBufon_Tarea.ipynb\" target=\"_parent\"><img src=\"https://colab.research.google.com/assets/colab-badge.svg\" alt=\"Open In Colab\"/></a>"
      ]
    },
    {
      "cell_type": "markdown",
      "source": [
        "##EXPERIMENTO DE LA  AGUJA DE BUFFON\n",
        "consiste en la estimación de $\\pi$ basado en la probabilidad de cruce de las agujas con las líneas uniformemente espaciadas.\n",
        "\n",
        "Variables del experimento:\n",
        "    \n",
        "$L$: Longitud de la aguja.\n",
        "\n",
        "   $\\theta$: Ángulo.\n",
        "\n",
        "$X$: Distancia.\n",
        "\n",
        "$X$ se distribuye entre 0 y $D/2$\n",
        "\n",
        "$\\theta$ se distribuye entre 0 y $\\pi$\n",
        "\n",
        "Calculamos la probabilidad de cruce en las lineas:\n",
        "\n",
        "La proyección de la aguja en la dirección perpendicular es:\n",
        "$\n",
        "\\left(\\frac{L}{2}\\right) \\sin(\\theta)\n",
        "$\n",
        "\n",
        "La condición para que la aguja cruce una línea es:\n",
        "$\n",
        "\\left(\\frac{L}{2}\\right) \\sin(\\theta) \\geq X\n",
        "$\n",
        "\n",
        "Derivación de $\\pi$:\n",
        "\n",
        "Buscamos la probabilidad $p$ de que la aguja cruce una línea:\n",
        "$\n",
        "p = \\frac{1}{D/2} \\frac{1}{\\pi} \\int_{0}^{\\pi} \\int_{0}^{\\left(\\frac{L}{2}\\right) \\sin(\\theta)} dx \\, d\\theta\n",
        "$\n",
        "\n",
        "$\n",
        "p = \\frac{2}{D \\pi} \\int_{0}^{\\pi} \\left(\\frac{L}{2}\\right) \\sin(\\theta) \\, d\\theta\n",
        "$\n",
        "\n",
        "$\n",
        "p = \\frac{L}{D \\pi} \\left[-\\cos(\\theta)\\right]_0^{\\pi} = \\frac{2L}{D \\pi}\n",
        "$\\\n",
        "despejamos $\\pi$\\\n",
        "$\n",
        "\\pi \\approx \\frac{2L n}{D c}\n",
        "$\n",
        "\n",
        "donde:\n",
        "\n",
        "  $n$: Total de lanzamientos.\n",
        "\n",
        " $c$: Número de cruces.\n",
        "\n",
        "\n"
      ],
      "metadata": {
        "id": "sysA75OKSw5B"
      }
    },
    {
      "cell_type": "markdown",
      "source": [
        "##Experimento de la Aguja de Buffon\n",
        "\n",
        "El experimento de la aguja de Buffon permite la estimación de $\\pi$ basado en la probabilidad de que una aguja cruce líneas paralelas uniformemente espaciadas.\n",
        "\n",
        "$\\text{Variables del Experimento}$\\\n",
        "$L$: Longitud de la aguja.\\\n",
        "$\\theta$: Ángulo.\\\n",
        "$X$: Distancia.\\\n",
        "$D$: Distancia entre las líneas paralelas.\n",
        "\n",
        "$\\text{Distribución de las Variables}$\n",
        "\n",
        "$X$ se distribuye entre 0 y \\(D/2\\).\\\n",
        "$\\theta$ se distribuye entre 0 y $\\pi$.\\\n",
        "\n",
        "$\\text{Cálculo de la Probabilidad de Cruce}$\n",
        "\n",
        "La proyección de la aguja en la dirección perpendicular es:$\n",
        "[(\\frac{L}{2}) \\sin(\\theta)\n",
        "]$\n",
        "\n",
        "La condición para que la aguja cruce una línea es:\n",
        "$[\n",
        "\\left(\\frac{L}{2}\\right) \\sin(\\theta) \\geq X\n",
        "]$\n",
        "\n",
        "$\\text{Derivación de \\(\\pi\\)}$\n",
        "\n",
        "Queremos encontrar la probabilidad $p$ de que la aguja cruce una línea:\\\n",
        "$\n",
        "p = \\frac{1}{D/2} \\frac{1}{\\pi} \\int_{0}^{\\pi} \\int_{0}^{\\left(\\frac{L}{2}\\right) \\sin(\\theta)} dx \\, d\\theta\n",
        "$\\\n",
        "\n",
        "$\n",
        "p = \\frac{2}{D \\pi} \\int_{0}^{\\pi} \\left(\\frac{L}{2}\\right) \\sin(\\theta) \\, d\\theta\n",
        "$\n",
        "\n",
        "\n",
        "$\n",
        "p = \\frac{L}{D \\pi} \\left[-\\cos(\\theta)\\right]_0^{\\pi} = \\frac{2L}{D \\pi}\n",
        "$\n",
        "\n",
        "Despejamos $\\pi:$\\\n",
        "$\n",
        "\\pi \\approx \\frac{2L n}{D c}\n",
        "$\n",
        "\n",
        "donde:\\\n",
        "p=c/n\\\n",
        "n: Número total de lanzamientos.\\\n",
        "c: Número de cruces.\n",
        "\n",
        "Esta formulación permite estimar $\\pi$ basándose en los resultados experimentales del número de cruces de la aguja con las líneas paralelas.\n"
      ],
      "metadata": {
        "id": "En6R17hCIjqp"
      }
    },
    {
      "cell_type": "code",
      "execution_count": 1,
      "metadata": {
        "id": "LLWzdOEBADqN"
      },
      "outputs": [],
      "source": [
        "#importamos las librerías\n",
        "import random as rnd\n",
        "import numpy as np\n",
        "import matplotlib.pyplot as plt"
      ]
    },
    {
      "cell_type": "code",
      "source": [
        "#codigo para estimar pi en base a la probabilidad de cruce\n",
        "\n",
        "def cruce(n):\n",
        "    longitud = 0.5   #Longitud de las aguja\n",
        "    espacio = 1      #Distancia entre las líneas\n",
        "    theta = np.random.uniform(0, np.pi, n)            #Generamos ángulos aleatorios para las agujas\n",
        "    x = np.random.uniform(0, espacio / 2, n)       #Generamos posiciones aleatorias del centro de la aguja respecto a la línea más cercana\n",
        "    cruza = x <= (longitud / 2) * np.sin(theta)    #Calculamos si la aguja cruza alguna línea\n",
        "    cruza_total = np.sum(cruza)\n",
        "    #Estimamos π basado en la probabilidad de cruce\n",
        "    return (2 * longitud * n) / (espacio * cruza_total)"
      ],
      "metadata": {
        "id": "WiUVdoRDE0gk"
      },
      "execution_count": 2,
      "outputs": []
    },
    {
      "cell_type": "code",
      "source": [
        "#generamos el experimento\n",
        "cruce(500000)"
      ],
      "metadata": {
        "colab": {
          "base_uri": "https://localhost:8080/"
        },
        "id": "R7FPhpyeCcd_",
        "outputId": "0e7de795-c29e-4966-9634-543fda291aa2"
      },
      "execution_count": 3,
      "outputs": [
        {
          "output_type": "execute_result",
          "data": {
            "text/plain": [
              "3.1475641001428993"
            ]
          },
          "metadata": {},
          "execution_count": 3
        }
      ]
    },
    {
      "cell_type": "code",
      "source": [
        "#generamos la simulacion del experimento\n",
        "n = 1000\n",
        "repeticion = 10000\n",
        "y = []\n",
        "for i in range (1, repeticion):\n",
        "  y.append(cruce(n))"
      ],
      "metadata": {
        "id": "pI96HoF1GAek"
      },
      "execution_count": 9,
      "outputs": []
    },
    {
      "cell_type": "code",
      "source": [
        "#Creamos el histograma\n",
        "plt.hist(y)\n"
      ],
      "metadata": {
        "colab": {
          "base_uri": "https://localhost:8080/",
          "height": 535
        },
        "id": "XZsjSIifGbdY",
        "outputId": "6debbeff-eb6f-48c0-b7ca-da53b921f84c"
      },
      "execution_count": 10,
      "outputs": [
        {
          "output_type": "execute_result",
          "data": {
            "text/plain": [
              "(array([3.000e+00, 1.260e+02, 9.490e+02, 3.000e+03, 3.372e+03, 1.855e+03,\n",
              "        5.660e+02, 1.100e+02, 1.400e+01, 4.000e+00]),\n",
              " array([2.58397933, 2.71468645, 2.84539358, 2.9761007 , 3.10680783,\n",
              "        3.23751496, 3.36822208, 3.49892921, 3.62963633, 3.76034346,\n",
              "        3.89105058]),\n",
              " <BarContainer object of 10 artists>)"
            ]
          },
          "metadata": {},
          "execution_count": 10
        },
        {
          "output_type": "display_data",
          "data": {
            "text/plain": [
              "<Figure size 640x480 with 1 Axes>"
            ],
            "image/png": "[encoded data removed]"
          },
          "metadata": {}
        }
      ]
    },
    {
      "cell_type": "code",
      "source": [
        "plt.plot(y)"
      ],
      "metadata": {
        "colab": {
          "base_uri": "https://localhost:8080/",
          "height": 447
        },
        "id": "30nBbIoWHHnB",
        "outputId": "788e0247-e239-4aef-f973-532bdf8eed12"
      },
      "execution_count": 11,
      "outputs": [
        {
          "output_type": "execute_result",
          "data": {
            "text/plain": [
              "[<matplotlib.lines.Line2D at 0x7b574503fc70>]"
            ]
          },
          "metadata": {},
          "execution_count": 11
        },
        {
          "output_type": "display_data",
          "data": {
            "text/plain": [
              "<Figure size 640x480 with 1 Axes>"
            ],
            "image/png": "[encoded data removed]"
          },
          "metadata": {}
        }
      ]
    },
    {
      "cell_type": "code",
      "source": [
        "#calculamos promedio\n",
        "np.average(y)"
      ],
      "metadata": {
        "colab": {
          "base_uri": "https://localhost:8080/"
        },
        "id": "ptNsiwVhHX7K",
        "outputId": "d07f1330-38c0-409b-b847-4dd27d2214e1"
      },
      "execution_count": null,
      "outputs": [
        {
          "output_type": "execute_result",
          "data": {
            "text/plain": [
              "3.145751853993938"
            ]
          },
          "metadata": {},
          "execution_count": 26
        }
      ]
    }
  ]
}