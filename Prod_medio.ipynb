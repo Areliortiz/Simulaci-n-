{
  "nbformat": 4,
  "nbformat_minor": 0,
  "metadata": {
    "colab": {
      "provenance": [],
      "include_colab_link": true
    },
    "kernelspec": {
      "name": "python3",
      "display_name": "Python 3"
    },
    "language_info": {
      "name": "python"
    }
  },
  "cells": [
    {
      "cell_type": "markdown",
      "metadata": {
        "id": "view-in-github",
        "colab_type": "text"
      },
      "source": [
        "<a href=\"https://colab.research.google.com/github/Areliortiz/Simulaci-n-/blob/main/Prod_medio.ipynb\" target=\"_parent\"><img src=\"https://colab.research.google.com/assets/colab-badge.svg\" alt=\"Open In Colab\"/></a>"
      ]
    },
    {
      "cell_type": "markdown",
      "source": [
        "##Producto medio.\n",
        "Metodo para generar numeros aleatorios.\\\n",
        "1.Seleccionar 2 semillas, cada uno de tres digitos \\\n",
        "2.Multiplicar las dos semillas.\\\n",
        "3.Tomar los tres numeros del centro.\n"
      ],
      "metadata": {
        "id": "TPCbsc5CnAt0"
      }
    },
    {
      "cell_type": "code",
      "source": [
        "#llamar la libreria tabulate para mostrar datos tabulares de manera legible en la consola.\n",
        "from tabulate import tabulate"
      ],
      "metadata": {
        "id": "IOwRJu31ohif"
      },
      "execution_count": 1,
      "outputs": []
    },
    {
      "cell_type": "code",
      "source": [
        "#definimos el codigo para generar el producto medio con 2 semillas\n",
        "def producto_medio(xo,xn): #recibe 2 valores\n",
        "  lista_principal=[] #creamos la lista que tendra los valores de la tabla\n",
        "\n",
        "  for m in range(20):\n",
        "    producto_inicial= xo*xn; #multiplica las semillas\n",
        "    cadena=str(producto_inicial) #convierte el producto en un str\n",
        "    digitos=len(cadena) #lee la cantidad de digitos\n",
        "\n",
        "\n",
        "    if digitos==6: #si la cantidad de digitos es par entonces:\n",
        "      cero=str(0);  #agraega un cero al inicio para tomar los 3 valores de enmedio\n",
        "      cadena=cero+cadena;\n",
        "      xnn=[cadena[i]for i in range(2,5)];     #toma  los 3 valores de enmedio del producto\n",
        "\n",
        "    else:\n",
        "      xnn=[cadena[i]for i in range(1,4)];     #toma  los 3 valores de enmedio del producto\n",
        "\n",
        "    #convierte la lista en str y luego a entero\n",
        "    int_xnn=''.join(xnn)\n",
        "    entero=int(int_xnn)\n",
        "    #crea la tabla\n",
        "    lista_principal.append([m, xo, xn,producto_inicial,entero ])\n",
        "    #canvia las variables para continuar con el for\n",
        "    xo=xn\n",
        "    xn=entero\n",
        "  return lista_principal #regresa la tabla principal"
      ],
      "metadata": {
        "id": "V5tki-ycpE3S"
      },
      "execution_count": 2,
      "outputs": []
    },
    {
      "cell_type": "code",
      "source": [
        "#pedimos las 2 semilas al usuario\n",
        "xo=int(input(\"dame un número de 3 dígitos: \"))\n",
        "xn=int(input(\"dame el segundo número de 3 dígitos: \"))\n",
        "lista_principal=producto_medio(xo,xn)"
      ],
      "metadata": {
        "id": "WdCNhXAIo7lB",
        "outputId": "8ab9dc23-b01a-46c3-bcc8-41d0638b98a4",
        "colab": {
          "base_uri": "https://localhost:8080/"
        }
      },
      "execution_count": 3,
      "outputs": [
        {
          "name": "stdout",
          "output_type": "stream",
          "text": [
            "dame un número de 3 dígitos: 123\n",
            "dame el segundo número de 3 dígitos: 456\n"
          ]
        }
      ]
    },
    {
      "cell_type": "code",
      "source": [
        "  #imprime la tabla\n",
        "headers = [\"n.iteracion\", \"primer valor\", \"segundo valor\", \"producto \",\"valor nuevo\"]\n",
        "print(tabulate(lista_principal, headers=headers, tablefmt=\"grid\"))"
      ],
      "metadata": {
        "id": "F4dBySw3plFR",
        "outputId": "92ee7eed-1908-417c-bbe3-0e8d47e8f88d",
        "colab": {
          "base_uri": "https://localhost:8080/"
        }
      },
      "execution_count": 4,
      "outputs": [
        {
          "output_type": "stream",
          "name": "stdout",
          "text": [
            "+---------------+----------------+-----------------+-------------+---------------+\n",
            "|   n.iteracion |   primer valor |   segundo valor |   producto  |   valor nuevo |\n",
            "+===============+================+=================+=============+===============+\n",
            "|             0 |            123 |             456 |       56088 |           608 |\n",
            "+---------------+----------------+-----------------+-------------+---------------+\n",
            "|             1 |            456 |             608 |      277248 |           772 |\n",
            "+---------------+----------------+-----------------+-------------+---------------+\n",
            "|             2 |            608 |             772 |      469376 |           693 |\n",
            "+---------------+----------------+-----------------+-------------+---------------+\n",
            "|             3 |            772 |             693 |      534996 |           349 |\n",
            "+---------------+----------------+-----------------+-------------+---------------+\n",
            "|             4 |            693 |             349 |      241857 |           418 |\n",
            "+---------------+----------------+-----------------+-------------+---------------+\n",
            "|             5 |            349 |             418 |      145882 |           458 |\n",
            "+---------------+----------------+-----------------+-------------+---------------+\n",
            "|             6 |            418 |             458 |      191444 |           914 |\n",
            "+---------------+----------------+-----------------+-------------+---------------+\n",
            "|             7 |            458 |             914 |      418612 |           186 |\n",
            "+---------------+----------------+-----------------+-------------+---------------+\n",
            "|             8 |            914 |             186 |      170004 |           700 |\n",
            "+---------------+----------------+-----------------+-------------+---------------+\n",
            "|             9 |            186 |             700 |      130200 |           302 |\n",
            "+---------------+----------------+-----------------+-------------+---------------+\n",
            "|            10 |            700 |             302 |      211400 |           114 |\n",
            "+---------------+----------------+-----------------+-------------+---------------+\n",
            "|            11 |            302 |             114 |       34428 |           442 |\n",
            "+---------------+----------------+-----------------+-------------+---------------+\n",
            "|            12 |            114 |             442 |       50388 |            38 |\n",
            "+---------------+----------------+-----------------+-------------+---------------+\n",
            "|            13 |            442 |              38 |       16796 |           679 |\n",
            "+---------------+----------------+-----------------+-------------+---------------+\n",
            "|            14 |             38 |             679 |       25802 |           580 |\n",
            "+---------------+----------------+-----------------+-------------+---------------+\n",
            "|            15 |            679 |             580 |      393820 |           938 |\n",
            "+---------------+----------------+-----------------+-------------+---------------+\n",
            "|            16 |            580 |             938 |      544040 |           440 |\n",
            "+---------------+----------------+-----------------+-------------+---------------+\n",
            "|            17 |            938 |             440 |      412720 |           127 |\n",
            "+---------------+----------------+-----------------+-------------+---------------+\n",
            "|            18 |            440 |             127 |       55880 |           588 |\n",
            "+---------------+----------------+-----------------+-------------+---------------+\n",
            "|            19 |            127 |             588 |       74676 |           467 |\n",
            "+---------------+----------------+-----------------+-------------+---------------+\n"
          ]
        }
      ]
    }
  ]
}