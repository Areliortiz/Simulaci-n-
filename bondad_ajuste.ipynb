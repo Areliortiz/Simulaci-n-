{
  "nbformat": 4,
  "nbformat_minor": 0,
  "metadata": {
    "colab": {
      "provenance": [],
      "authorship_tag": "ABX9TyPCTDc9sr9rLLuntYmv7cvP",
      "include_colab_link": true
    },
    "kernelspec": {
      "name": "python3",
      "display_name": "Python 3"
    },
    "language_info": {
      "name": "python"
    }
  },
  "cells": [
    {
      "cell_type": "markdown",
      "metadata": {
        "id": "view-in-github",
        "colab_type": "text"
      },
      "source": [
        "<a href=\"https://colab.research.google.com/github/Areliortiz/Simulaci-n-/blob/main/bondad_ajuste.ipynb\" target=\"_parent\"><img src=\"https://colab.research.google.com/assets/colab-badge.svg\" alt=\"Open In Colab\"/></a>"
      ]
    },
    {
      "cell_type": "code",
      "execution_count": 11,
      "metadata": {
        "colab": {
          "base_uri": "https://localhost:8080/"
        },
        "id": "BQ5dXwdpIdBk",
        "outputId": "6692ec89-78bf-45b4-fdb4-d75ebb68cf22"
      },
      "outputs": [
        {
          "output_type": "stream",
          "name": "stdout",
          "text": [
            "dame la cantidad total de numeros de tu lista= 50\n",
            "la frecuencia esperada es: 10.0\n",
            "dame la frecuencia absoluta(fo):6\n",
            "dame la frecuencia absoluta(fo):12\n",
            "dame la frecuencia absoluta(fo):13\n",
            "dame la frecuencia absoluta(fo):7\n",
            "dame la frecuencia absoluta(fo):12\n",
            "+------------+-----+----------+------------+---------+\n",
            "|            |   x |   numero |   cuadrado |   medio |\n",
            "+============+=====+==========+============+=========+\n",
            "| [0-0.19]   |   6 |       10 |         -4 |     1.6 |\n",
            "+------------+-----+----------+------------+---------+\n",
            "| [0.2-0.39] |  12 |       10 |          2 |     0.4 |\n",
            "+------------+-----+----------+------------+---------+\n",
            "| [0.4-0.59] |  13 |       10 |          3 |     0.9 |\n",
            "+------------+-----+----------+------------+---------+\n",
            "| [0.6-0.79] |   7 |       10 |         -3 |     0.9 |\n",
            "+------------+-----+----------+------------+---------+\n",
            "| [0.8-0.99] |  12 |       10 |          2 |     0.4 |\n",
            "+------------+-----+----------+------------+---------+\n",
            "| total      |  50 |       50 |          0 |     4.2 |\n",
            "+------------+-----+----------+------------+---------+\n"
          ]
        }
      ],
      "source": [
        "from tabulate import tabulate\n",
        "num_total=float(input(\"dame la cantidad total de numeros de tu lista= \"));\n",
        "fe=num_total/5\n",
        "\n",
        "print(\"la frecuencia esperada es:\", fe) #segunda columna\n",
        "x=0;\n",
        "lista_principal=[]\n",
        "\n",
        "tfo=0\n",
        "tfe=0\n",
        "tres=0\n",
        "tdiv=0\n",
        "rangos = [\"[0-0.19]\", \"[0.2-0.39]\", \"[0.4-0.59]\", \"[0.6-0.79]\", \"[0.8-0.99]\"]\n",
        "for x in range (5):\n",
        "\n",
        "   fo=float(input(\"dame la frecuencia absoluta(fo):\"));   #primera columna\n",
        "   tfo += fo\n",
        "   tfe += fe\n",
        "   resta = fo-fe;  #tercera columna\n",
        "   tres +=resta\n",
        "   division=((resta)**2)/fe; #cuarta columna\n",
        "\n",
        "   tdiv += division\n",
        "   lista_principal.append([rangos[x], fo, fe, resta, division])\n",
        "\n",
        "lista_principal.append([\"total\",tfo,tfe,tres,tdiv]) # total de las columnas\n",
        "headers = [\"x\", \"numero\", \"cuadrado\", \"medio\"]\n",
        "print(tabulate(lista_principal, headers=headers, tablefmt=\"grid\"))\n",
        "\n"
      ]
    },
    {
      "cell_type": "code",
      "source": [
        "\n"
      ],
      "metadata": {
        "id": "ZEF9hhA_L5nf"
      },
      "execution_count": 11,
      "outputs": []
    }
  ]
}