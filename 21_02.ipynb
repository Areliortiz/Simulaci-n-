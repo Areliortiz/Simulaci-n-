{
  "nbformat": 4,
  "nbformat_minor": 0,
  "metadata": {
    "colab": {
      "provenance": [],
      "authorship_tag": "ABX9TyO8Z7JFgwIxnZpGUz0Lk2xr",
      "include_colab_link": true
    },
    "kernelspec": {
      "name": "python3",
      "display_name": "Python 3"
    },
    "language_info": {
      "name": "python"
    }
  },
  "cells": [
    {
      "cell_type": "markdown",
      "metadata": {
        "id": "view-in-github",
        "colab_type": "text"
      },
      "source": [
        "<a href=\"https://colab.research.google.com/github/Areliortiz/Simulaci-n-/blob/main/21_02.ipynb\" target=\"_parent\"><img src=\"https://colab.research.google.com/assets/colab-badge.svg\" alt=\"Open In Colab\"/></a>"
      ]
    },
    {
      "cell_type": "code",
      "execution_count": 30,
      "metadata": {
        "colab": {
          "base_uri": "https://localhost:8080/"
        },
        "id": "-0Qi4Sb93p0-",
        "outputId": "f0264c10-8ea3-4c68-dbf7-6cc4f5b458bb"
      },
      "outputs": [
        {
          "output_type": "stream",
          "name": "stdout",
          "text": [
            "escribe numero:5113\n",
            "el numero al cuadrado es:  26142769\n",
            "tu numero es de 8 digitos\n",
            "el cuadrado medio es: ['1', '4', '2', '7']\n",
            "[[1, 4, 2, 7]]\n"
          ]
        }
      ],
      "source": [
        "num=int(input(\"escribe numero:\"))\n",
        "num_cuadrado=num*num;\n",
        "print(\"el numero al cuadrado es: \", num_cuadrado)\n",
        "cadena=str(num_cuadrado);\n",
        "cantidad=len(cadena);\n",
        "print(\"tu numero es de\",cantidad, \"digitos\")\n",
        "cero=str(0)\n",
        "lista_principal=[]\n",
        "\n",
        "if cantidad < 8:\n",
        "  cadena= cero + cadena\n",
        "  print(\"tu numero sera\", cadena)\n",
        "\n",
        "lista_cadena=[cadena[i] for i in range(2,6)]\n",
        "print(\"el cuadrado medio es:\", lista_cadena)\n",
        "lista_numero=[int(v) for v in h]\n",
        "for x in ranf(4)\n",
        "lista_principal.append(lista_numero)\n",
        "print(lista_principal)\n",
        "\n"
      ]
    },
    {
      "cell_type": "code",
      "source": [
        "="
      ],
      "metadata": {
        "id": "7OohMpUF8m4i"
      },
      "execution_count": null,
      "outputs": []
    }
  ]
}