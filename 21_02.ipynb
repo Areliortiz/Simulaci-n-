{
  "nbformat": 4,
  "nbformat_minor": 0,
  "metadata": {
    "colab": {
      "provenance": [],
      "authorship_tag": "ABX9TyPrgofB1Dejgoj62FWsoMRF",
      "include_colab_link": true
    },
    "kernelspec": {
      "name": "python3",
      "display_name": "Python 3"
    },
    "language_info": {
      "name": "python"
    }
  },
  "cells": [
    {
      "cell_type": "markdown",
      "metadata": {
        "id": "view-in-github",
        "colab_type": "text"
      },
      "source": [
        "<a href=\"https://colab.research.google.com/github/Areliortiz/Simulaci-n-/blob/main/21_02.ipynb\" target=\"_parent\"><img src=\"https://colab.research.google.com/assets/colab-badge.svg\" alt=\"Open In Colab\"/></a>"
      ]
    },
    {
      "cell_type": "code",
      "execution_count": null,
      "metadata": {
        "id": "-0Qi4Sb93p0-"
      },
      "outputs": [],
      "source": [
        "num=int(input(\"escribe numero:\"))\n",
        "num_cuadrado=num*num;\n",
        "print(\"el numero al cuadrado es: \", num_cuadrado)\n",
        "cadena=str(num_cuadrado);\n",
        "cantidad=len(cadena);\n",
        "print(\"tu numero es de\",cantidad, \"digitos\")\n",
        "\n",
        "if cantidad < 8:\n",
        "  Op=8-cantidad\n",
        "  ceros=[0]*Op\n",
        "  print(ceros)\n",
        "  cadena=ceros+cadena\n",
        "  print(\"tu numero sera\", cadena)\n",
        "else:\n",
        "  print(\"tu numero es: \", cadena)\n",
        "\n",
        "lista_cadena=[cadena[i] for i in range(2,6)]\n",
        "print(\"el cuadrado medio es:\", lista_cadena)\n",
        "lista_numero=[int(v) for v in h]\n",
        "for x in rang(4):\n",
        "  lista_principal.append(lista_numero)\n",
        "  print(lista_principal)"
      ]
    },
    {
      "cell_type": "code",
      "source": [],
      "metadata": {
        "id": "7OohMpUF8m4i"
      },
      "execution_count": null,
      "outputs": []
    }
  ]
}