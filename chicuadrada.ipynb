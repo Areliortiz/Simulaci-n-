{
  "cells": [
    {
      "cell_type": "markdown",
      "metadata": {
        "id": "view-in-github",
        "colab_type": "text"
      },
      "source": [
        "<a href=\"https://colab.research.google.com/github/Areliortiz/Simulaci-n-/blob/main/chicuadrada.ipynb\" target=\"_parent\"><img src=\"https://colab.research.google.com/assets/colab-badge.svg\" alt=\"Open In Colab\"/></a>"
      ]
    },
    {
      "cell_type": "code",
      "execution_count": 4,
      "metadata": {
        "colab": {
          "base_uri": "https://localhost:8080/"
        },
        "id": "KLTjXRaPqEzA",
        "outputId": "16f4a6fd-c955-4c95-e4d7-43a70589d8e0"
      },
      "outputs": [
        {
          "output_type": "stream",
          "name": "stdout",
          "text": [
            "dame la cantidad total de numeros de tu lista= 50\n",
            "la frecuencia esperada es: 10.0\n",
            "Dame el grado de aceptación:.95\n",
            "el valor critico es:  9.487729036781154\n",
            "dame la frecuencia observada(fo)6\n",
            "dame la frecuencia observada(fo)12\n",
            "dame la frecuencia observada(fo)13\n",
            "dame la frecuencia observada(fo)7\n",
            "dame la frecuencia observada(fo)12\n",
            "+------------+-----+----------+------------+---------+\n",
            "|            |   x |   numero |   cuadrado |   medio |\n",
            "+============+=====+==========+============+=========+\n",
            "| [0-0.19]   |   6 |       10 |         -4 |     1.6 |\n",
            "+------------+-----+----------+------------+---------+\n",
            "| [0.2-0.39] |  12 |       10 |          2 |     0.4 |\n",
            "+------------+-----+----------+------------+---------+\n",
            "| [0.4-0.59] |  13 |       10 |          3 |     0.9 |\n",
            "+------------+-----+----------+------------+---------+\n",
            "| [0.6-0.79] |   7 |       10 |         -3 |     0.9 |\n",
            "+------------+-----+----------+------------+---------+\n",
            "| [0.8-0.99] |  12 |       10 |          2 |     0.4 |\n",
            "+------------+-----+----------+------------+---------+\n",
            "| total      |  50 |       50 |          0 |     4.2 |\n",
            "+------------+-----+----------+------------+---------+\n",
            "Ho. proviene de distribución uniforme,\n",
            "la hipotesis pasa\n"
          ]
        }
      ],
      "source": [
        "from scipy.stats import chi2\n",
        "from tabulate import tabulate\n",
        "num_total=float(input(\"dame la cantidad total de numeros de tu lista= \"));\n",
        "#calcula la frecuencia esperada\n",
        "fe=num_total/5\n",
        "#los grados de libertad para este programa siempres seran 4\n",
        "grad_libertad=4\n",
        "print(\"la frecuencia esperada es:\", fe) #segunda columna\n",
        "ga=float(input(\"Dame el grado de aceptación:\"))\n",
        "\n",
        "x=0;\n",
        "lista_principal=[]\n",
        "\n",
        "tfo=0\n",
        "tfe=num_total\n",
        "tres=0\n",
        "tdiv=0\n",
        "rangos = [\"[0-0.19]\", \"[0.2-0.39]\", \"[0.4-0.59]\", \"[0.6-0.79]\", \"[0.8-0.99]\"]\n",
        "\n",
        "#utiliza la bibleoteca chi2 para encontrar valor critico\n",
        "valor_critico=chi2.ppf (ga,grad_libertad)\n",
        "print(\"el valor critico es: \", valor_critico)\n",
        "\n",
        "for x in range (5):\n",
        "    fo=float(input(\"dame la frecuencia observada(fo)\"));   #primera columna\n",
        "    tfo += fo       # suma todos los valores de la frecuencia observada\n",
        "    resta = fo-fe;  # tercera columna\n",
        "    tres +=resta    # suma rodos los valores de la resta fo-fe\n",
        "    division=((resta)**2)/fe; #cuarta columna\n",
        "    tdiv += division #suma todos los valores de la cuarta columna\n",
        "    #genera tabla\n",
        "    lista_principal.append([rangos[x], fo, fe, resta, division])\n",
        "\n",
        "#agraega a la tabla los datos totales de cada columna\n",
        "lista_principal.append([\"total\",tfo,tfe,tres,tdiv])\n",
        "#imprime la tabla\n",
        "headers = [\"x\", \"numero\", \"cuadrado\", \"medio\"]\n",
        "print(tabulate(lista_principal, headers=headers, tablefmt=\"grid\"))\n",
        "\n",
        "\n",
        "#evalua las hipotesis\n",
        " #valor estadistico<=valor critico\n",
        "if tdiv<=valor_critico:\n",
        "  print(\"Ho. proviene de distribución uniforme,\")\n",
        "  print(\"la hipotesis pasa\")\n",
        "  #valor estadistico>valor critico\n",
        "else:\n",
        "  print(\"Hi, No proviene de distribución uniforme\")\n",
        "  print(\"la hipotesis NO pasa\")"
      ]
    }
  ],
  "metadata": {
    "colab": {
      "provenance": [],
      "include_colab_link": true
    },
    "kernelspec": {
      "display_name": "Python 3",
      "name": "python3"
    },
    "language_info": {
      "name": "python"
    }
  },
  "nbformat": 4,
  "nbformat_minor": 0
}