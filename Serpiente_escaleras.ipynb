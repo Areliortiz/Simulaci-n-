{
  "nbformat": 4,
  "nbformat_minor": 0,
  "metadata": {
    "colab": {
      "provenance": [],
      "authorship_tag": "ABX9TyMAgAv0O+OLzbJ+TDEQmxkf",
      "include_colab_link": true
    },
    "kernelspec": {
      "name": "python3",
      "display_name": "Python 3"
    },
    "language_info": {
      "name": "python"
    }
  },
  "cells": [
    {
      "cell_type": "markdown",
      "metadata": {
        "id": "view-in-github",
        "colab_type": "text"
      },
      "source": [
        "<a href=\"https://colab.research.google.com/github/Areliortiz/Simulaci-n-/blob/main/Serpiente_escaleras.ipynb\" target=\"_parent\"><img src=\"https://colab.research.google.com/assets/colab-badge.svg\" alt=\"Open In Colab\"/></a>"
      ]
    },
    {
      "cell_type": "code",
      "execution_count": 65,
      "metadata": {
        "id": "pGKqAiNACmmP"
      },
      "outputs": [],
      "source": [
        "import random as rnd"
      ]
    },
    {
      "cell_type": "code",
      "source": [
        "def serpientes_escaleras():\n",
        "   Posicion=0\n",
        "   Tiradas=0\n",
        "   Dado=0\n",
        "   while Posicion <= 20:\n",
        "       Dado = rnd.randint(1, 6) # lanza el dado\n",
        "       Posicion += Dado\n",
        "       #print(f\"Se lanzó un {Dado}.te mueves a la casilla: {Posicion}\")\n",
        "       if Posicion == 3:\n",
        "          Posicion=11\n",
        "          #print(f\"*****subes a la casilla: {Posicion}****\")\n",
        "       elif Posicion == 15:\n",
        "          Posicion=19\n",
        "         # print(f\"*****subes a la casilla: {Posicion}****\")\n",
        "       elif Posicion ==13:\n",
        "          Posicion=4\n",
        "          #print(f\"*****bajas a la casilla: {Posicion}****\")\n",
        "       elif Posicion == 17:\n",
        "          Posicion= 10\n",
        "          #print(f\"*****bajas a la casilla: {Posicion}****\")\n",
        "       Tiradas+= 1\n",
        "\n",
        "  # print(f\"Se tiro el dado {Tiradas} veces\")\n",
        "\n",
        " #  print(\"/////se acabó el juego////\")\n",
        "   return Tiradas"
      ],
      "metadata": {
        "id": "p9q9sVQ0DGkm"
      },
      "execution_count": 66,
      "outputs": []
    },
    {
      "cell_type": "code",
      "source": [
        "num_simulacion=100000\n",
        "total_tiradas = 0\n",
        "for _ in range(num_simulacion):\n",
        "    total_tiradas += serpientes_escaleras()\n",
        "\n",
        "promedio= total_tiradas / num_simulacion\n",
        "print(f\"promedio de tiradas: {promedio:.2f}\")"
      ],
      "metadata": {
        "colab": {
          "base_uri": "https://localhost:8080/"
        },
        "id": "ho0OWM3vJ4At",
        "outputId": "f67ba8e1-2383-4243-e64d-13b9bda0db84"
      },
      "execution_count": 64,
      "outputs": [
        {
          "output_type": "stream",
          "name": "stdout",
          "text": [
            "promedio de tiradas: 7.34\n"
          ]
        }
      ]
    }
  ]
}