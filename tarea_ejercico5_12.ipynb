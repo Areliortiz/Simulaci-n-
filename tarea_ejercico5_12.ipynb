{
  "nbformat": 4,
  "nbformat_minor": 0,
  "metadata": {
    "colab": {
      "provenance": [],
      "authorship_tag": "ABX9TyOiCA0/993Ay9t5OOFnuiVG",
      "include_colab_link": true
    },
    "kernelspec": {
      "name": "python3",
      "display_name": "Python 3"
    },
    "language_info": {
      "name": "python"
    }
  },
  "cells": [
    {
      "cell_type": "markdown",
      "metadata": {
        "id": "view-in-github",
        "colab_type": "text"
      },
      "source": [
        "<a href=\"https://colab.research.google.com/github/Areliortiz/Simulaci-n-/blob/main/tarea_ejercico5_12.ipynb\" target=\"_parent\"><img src=\"https://colab.research.google.com/assets/colab-badge.svg\" alt=\"Open In Colab\"/></a>"
      ]
    },
    {
      "cell_type": "markdown",
      "source": [
        "$\\text{5.12.}$ Se tiene un sistema de colas formado por dos estaciones en serie.\n",
        " Los clientes atendidos en la primera estación pasan enseguida a formar cola en la segunda. En la primera estación de servicio, la razón de llegadas sigue una distribución poisson con media de 20 clientes por hora, y el tiempo de servicio sigue una distribución exponencial con media de 2 minutos por persona. En la siguiente estación, el tiempo de servicio está uniformemente distribuido entre 1 y 2 minutos. Se desea elaborar un programa (pseudo código) para modelar este proceso y calcular el tiempo medio de espera de un cliente en el sistema de colas\n",
        "\n",
        "$\\text{Paso 1: Primera Estación (Modelo M/M/1)}$\\\n",
        "Tasa de llegadas 𝜆=20 clientes por hora.\\\n",
        "Tasa de servicio 𝜇=30 clientes por hora.(el tiempo de servicio es de 2 minutos por cliente).\\\n",
        " tiempo medio de espera en la cola Wq=\n",
        " $W_{q1}$ = $\\frac{\\lambda_1}{\\mu_1 (\\mu_1 - \\lambda_1)}$ \\\\\n",
        "    W_1 = $W_{q1}$ + $\\frac{1}{\\mu_1}$\n",
        "\n",
        "$\\text{Paso 2: La segunda estación sigue un modelo M/G/1:}$\\\n",
        "Tasa de llegadas λ=20 clientes por hora.\\\n",
        "El tiempo de servicio está uniformemente distribuido entre 1 y 2 minutos.\n",
        "$W_{q2} = \\frac{\\lambda \\sigma^2}{2 (1 - \\rho)}$\n",
        "W_2 = $W_{q2}$ + $\\mu_2$\n",
        "\n",
        "\\section{Paso 3: Tiempo Total en el Sistema}\n",
        "\n",
        "El tiempo medio total de espera en el sistema, \\( W \\), es la suma de los tiempos medios de espera en cada una de las estaciones del sistema.\n",
        "\n",
        "En este contexto, el tiempo total en el sistema se calcula como:\n",
        "\n",
        "\\[\n",
        "W = W_1 + W_2\n",
        "\\]\n",
        "\n",
        "Donde:\\\n",
        "W_1 es el tiempo medio de espera en la primera estación.\\\n",
        "W_2 es el tiempo medio de espera en la segunda estación.\n",
        "\n",
        "\n",
        "\n"
      ],
      "metadata": {
        "id": "MP5mpJiwxhOu"
      }
    },
    {
      "cell_type": "code",
      "source": [
        "#librerias\n",
        "import numpy as np\n",
        "import matplotlib.pyplot as plt"
      ],
      "metadata": {
        "id": "N1VeQQ6YCrsS"
      },
      "execution_count": 1,
      "outputs": []
    },
    {
      "cell_type": "code",
      "source": [
        "# Parámetros\n",
        "tasa_llegadas = 20  # Llegadas por hora\n",
        "servicio_1 = 2 / 60  # Media de servicio en la primera estación (en horas)\n",
        "min_servicio_2 = 1 / 60  # Tiempo mínimo de servicio en la segunda estación (en horas)\n",
        "max_servicio_2 = 2 / 60  # Tiempo máximo de servicio en la segunda estación (en horas)\n"
      ],
      "metadata": {
        "id": "15UAHSgdCvZz"
      },
      "execution_count": 2,
      "outputs": []
    },
    {
      "cell_type": "code",
      "source": [
        "# Realizar la simulación 50 veces\n",
        "tiempos_promedio = [calcular_tiempos() for _ in range(50)]\n",
        "\n",
        "# Generar histograma de los tiempos promedio\n",
        "plt.hist(tiempos_promedio, bins=10, edgecolor='black')\n",
        "plt.title('Histograma de los Tiempos Promedio en el Sistema')\n",
        "plt.xlabel('Tiempo Promedio (minutos)')\n",
        "plt.ylabel('Frecuencia')\n",
        "plt.show()\n",
        "\n",
        "# Mostrar los tiempos promedio calculados\n",
        "print(tiempos_promedio)"
      ],
      "metadata": {
        "id": "wjHVfE4NC08a",
        "outputId": "82cbf85f-fb46-4a36-a871-e3c4cc16f567",
        "colab": {
          "base_uri": "https://localhost:8080/",
          "height": 332
        }
      },
      "execution_count": 3,
      "outputs": [
        {
          "output_type": "error",
          "ename": "NameError",
          "evalue": "name 'calcular_tiempos' is not defined",
          "traceback": [
            "\u001b[0;31m---------------------------------------------------------------------------\u001b[0m",
            "\u001b[0;31mNameError\u001b[0m                                 Traceback (most recent call last)",
            "\u001b[0;32m<ipython-input-3-56a570a39765>\u001b[0m in \u001b[0;36m<cell line: 2>\u001b[0;34m()\u001b[0m\n\u001b[1;32m      1\u001b[0m \u001b[0;31m# Realizar la simulación 50 veces\u001b[0m\u001b[0;34m\u001b[0m\u001b[0;34m\u001b[0m\u001b[0m\n\u001b[0;32m----> 2\u001b[0;31m \u001b[0mtiempos_promedio\u001b[0m \u001b[0;34m=\u001b[0m \u001b[0;34m[\u001b[0m\u001b[0mcalcular_tiempos\u001b[0m\u001b[0;34m(\u001b[0m\u001b[0;34m)\u001b[0m \u001b[0;32mfor\u001b[0m \u001b[0m_\u001b[0m \u001b[0;32min\u001b[0m \u001b[0mrange\u001b[0m\u001b[0;34m(\u001b[0m\u001b[0;36m50\u001b[0m\u001b[0;34m)\u001b[0m\u001b[0;34m]\u001b[0m\u001b[0;34m\u001b[0m\u001b[0;34m\u001b[0m\u001b[0m\n\u001b[0m\u001b[1;32m      3\u001b[0m \u001b[0;34m\u001b[0m\u001b[0m\n\u001b[1;32m      4\u001b[0m \u001b[0;31m# Generar histograma de los tiempos promedio\u001b[0m\u001b[0;34m\u001b[0m\u001b[0;34m\u001b[0m\u001b[0m\n\u001b[1;32m      5\u001b[0m \u001b[0mplt\u001b[0m\u001b[0;34m.\u001b[0m\u001b[0mhist\u001b[0m\u001b[0;34m(\u001b[0m\u001b[0mtiempos_promedio\u001b[0m\u001b[0;34m,\u001b[0m \u001b[0mbins\u001b[0m\u001b[0;34m=\u001b[0m\u001b[0;36m10\u001b[0m\u001b[0;34m,\u001b[0m \u001b[0medgecolor\u001b[0m\u001b[0;34m=\u001b[0m\u001b[0;34m'black'\u001b[0m\u001b[0;34m)\u001b[0m\u001b[0;34m\u001b[0m\u001b[0;34m\u001b[0m\u001b[0m\n",
            "\u001b[0;32m<ipython-input-3-56a570a39765>\u001b[0m in \u001b[0;36m<listcomp>\u001b[0;34m(.0)\u001b[0m\n\u001b[1;32m      1\u001b[0m \u001b[0;31m# Realizar la simulación 50 veces\u001b[0m\u001b[0;34m\u001b[0m\u001b[0;34m\u001b[0m\u001b[0m\n\u001b[0;32m----> 2\u001b[0;31m \u001b[0mtiempos_promedio\u001b[0m \u001b[0;34m=\u001b[0m \u001b[0;34m[\u001b[0m\u001b[0mcalcular_tiempos\u001b[0m\u001b[0;34m(\u001b[0m\u001b[0;34m)\u001b[0m \u001b[0;32mfor\u001b[0m \u001b[0m_\u001b[0m \u001b[0;32min\u001b[0m \u001b[0mrange\u001b[0m\u001b[0;34m(\u001b[0m\u001b[0;36m50\u001b[0m\u001b[0;34m)\u001b[0m\u001b[0;34m]\u001b[0m\u001b[0;34m\u001b[0m\u001b[0;34m\u001b[0m\u001b[0m\n\u001b[0m\u001b[1;32m      3\u001b[0m \u001b[0;34m\u001b[0m\u001b[0m\n\u001b[1;32m      4\u001b[0m \u001b[0;31m# Generar histograma de los tiempos promedio\u001b[0m\u001b[0;34m\u001b[0m\u001b[0;34m\u001b[0m\u001b[0m\n\u001b[1;32m      5\u001b[0m \u001b[0mplt\u001b[0m\u001b[0;34m.\u001b[0m\u001b[0mhist\u001b[0m\u001b[0;34m(\u001b[0m\u001b[0mtiempos_promedio\u001b[0m\u001b[0;34m,\u001b[0m \u001b[0mbins\u001b[0m\u001b[0;34m=\u001b[0m\u001b[0;36m10\u001b[0m\u001b[0;34m,\u001b[0m \u001b[0medgecolor\u001b[0m\u001b[0;34m=\u001b[0m\u001b[0;34m'black'\u001b[0m\u001b[0;34m)\u001b[0m\u001b[0;34m\u001b[0m\u001b[0;34m\u001b[0m\u001b[0m\n",
            "\u001b[0;31mNameError\u001b[0m: name 'calcular_tiempos' is not defined"
          ]
        }
      ]
    },
    {
      "cell_type": "code",
      "source": [
        "# Función para calcular el tiempo medio en el sistema\n",
        "def calcular_tiempos():\n",
        "    # Primera estación\n",
        "    lambda_1 = tasa_llegadas\n",
        "    mu_1 = 1 / servicio_1\n",
        "\n",
        "    Wq_1 = lambda_1 / (mu_1 * (mu_1 - lambda_1))  # Tiempo medio de espera en cola (en horas)\n",
        "    W_1 = Wq_1 + 1 / mu_1  # Tiempo medio total (en horas)\n",
        "\n",
        "    # Segunda estación (M/G/1)\n",
        "    lambda_2 = tasa_llegadas\n",
        "    servicio_2 = np.random.uniform(min_servicio_2, max_servicio_2)  # Tiempo de servicio variable (en horas)\n",
        "    mu_s = servicio_2  # Media del tiempo de servicio (en horas)\n",
        "    var_s = ((max_servicio_2 - min_servicio_2) ** 2) / 12  # Varianza del tiempo de servicio (en horas^2)\n",
        "    rho_2 = lambda_2 * mu_s\n",
        "\n",
        "    Wq_2 = (lambda_2 * var_s) / (2 * (1 - rho_2))  # Tiempo medio de espera en cola (en horas)\n",
        "    W_2 = Wq_2 + mu_s  # Tiempo medio total (en horas)\n",
        "\n",
        "    # Tiempo medio total en el sistema\n",
        "    W_total = W_1 + W_2  # En horas\n",
        "    W_total_minutos = W_total * 60  # Convertir a minutos\n",
        "\n",
        "    return W_total_minutos\n",
        "\n",
        "\n"
      ],
      "metadata": {
        "id": "6-NKG4WYoh29"
      },
      "execution_count": null,
      "outputs": []
    }
  ]
}